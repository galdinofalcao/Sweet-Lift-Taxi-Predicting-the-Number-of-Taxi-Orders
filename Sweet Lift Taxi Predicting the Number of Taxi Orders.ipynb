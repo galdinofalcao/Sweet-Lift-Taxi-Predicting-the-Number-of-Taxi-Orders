{
 "cells": [
  {
   "cell_type": "markdown",
   "metadata": {},
   "source": [
    "**Sweet Lift Taxi - Predicting the Number of Taxi Orders**\n",
    "---"
   ]
  },
  {
   "cell_type": "markdown",
   "metadata": {},
   "source": [
    "\n",
    "### Introduction\n",
    "---\n",
    "Sweet Lift Taxi company seeks to improve driver availability during peak hours by forecasting taxi orders for the upcoming hour. Historical airport order data provided the foundation to develop a forecasting model with a test set RMSE metric not exceeding 48. The final Random Forest model achieved an RMSE of 41.9, meeting the threshold and offering reliable predictions for optimized driver allocation. Historical data on taxi orders at airports was collected, and different time series were tested. A model was built to predict the volume of taxi orders for the next hour, attracting more drivers during peak periods."
   ]
  },
  {
   "cell_type": "markdown",
   "metadata": {},
   "source": [
    "\n",
    "### Importing libraries\n",
    "---"
   ]
  },
  {
   "cell_type": "code",
   "execution_count": 55,
   "metadata": {},
   "outputs": [],
   "source": [
    "import pandas as pd\n",
    "import matplotlib.pyplot as plt\n",
    "import numpy as np\n",
    "from statsmodels.tsa.seasonal import seasonal_decompose\n",
    "from sklearn.model_selection import train_test_split\n",
    "from statsmodels.tsa.stattools import adfuller\n",
    "from statsmodels.tsa.ar_model import AutoReg, ar_select_order\n",
    "from statsmodels.tsa.arima.model import ARIMA\n",
    "from statsmodels.tsa.stattools import arma_order_select_ic\n",
    "from sklearn.ensemble import RandomForestRegressor\n",
    "from pmdarima import auto_arima\n",
    "import seaborn as sns\n",
    "import matplotlib as mpl\n",
    "from sklearn.metrics import mean_squared_error\n",
    "import seaborn as sns\n",
    "import warnings"
   ]
  },
  {
   "cell_type": "code",
   "execution_count": 56,
   "metadata": {},
   "outputs": [],
   "source": [
    "warnings.filterwarnings(\"ignore\")"
   ]
  },
  {
   "cell_type": "markdown",
   "metadata": {},
   "source": [
    "\n",
    "### Importing dataset\n",
    "---"
   ]
  },
  {
   "cell_type": "code",
   "execution_count": 7,
   "metadata": {},
   "outputs": [
    {
     "name": "stdout",
     "output_type": "stream",
     "text": [
      "<class 'pandas.core.frame.DataFrame'>\n",
      "RangeIndex: 26496 entries, 0 to 26495\n",
      "Data columns (total 2 columns):\n",
      " #   Column      Non-Null Count  Dtype \n",
      "---  ------      --------------  ----- \n",
      " 0   datetime    26496 non-null  object\n",
      " 1   num_orders  26496 non-null  int64 \n",
      "dtypes: int64(1), object(1)\n",
      "memory usage: 414.1+ KB\n"
     ]
    }
   ],
   "source": [
    "df = pd.read_csv(r\"C:\\Users\\galdi\\OneDrive\\Área de Trabalho\\New folder\\Triple Ten\\Sprint 13\\taxi.csv\")\n",
    "df.info()"
   ]
  },
  {
   "cell_type": "markdown",
   "metadata": {},
   "source": [
    "### Exploratory Data Analysis (EDA)\n",
    "---"
   ]
  },
  {
   "cell_type": "code",
   "execution_count": 8,
   "metadata": {},
   "outputs": [
    {
     "data": {
      "text/html": [
       "<div>\n",
       "<style scoped>\n",
       "    .dataframe tbody tr th:only-of-type {\n",
       "        vertical-align: middle;\n",
       "    }\n",
       "\n",
       "    .dataframe tbody tr th {\n",
       "        vertical-align: top;\n",
       "    }\n",
       "\n",
       "    .dataframe thead th {\n",
       "        text-align: right;\n",
       "    }\n",
       "</style>\n",
       "<table border=\"1\" class=\"dataframe\">\n",
       "  <thead>\n",
       "    <tr style=\"text-align: right;\">\n",
       "      <th></th>\n",
       "      <th>datetime</th>\n",
       "      <th>num_orders</th>\n",
       "    </tr>\n",
       "  </thead>\n",
       "  <tbody>\n",
       "    <tr>\n",
       "      <th>0</th>\n",
       "      <td>2018-03-01 00:00:00</td>\n",
       "      <td>9</td>\n",
       "    </tr>\n",
       "    <tr>\n",
       "      <th>1</th>\n",
       "      <td>2018-03-01 00:10:00</td>\n",
       "      <td>14</td>\n",
       "    </tr>\n",
       "    <tr>\n",
       "      <th>2</th>\n",
       "      <td>2018-03-01 00:20:00</td>\n",
       "      <td>28</td>\n",
       "    </tr>\n",
       "    <tr>\n",
       "      <th>3</th>\n",
       "      <td>2018-03-01 00:30:00</td>\n",
       "      <td>20</td>\n",
       "    </tr>\n",
       "    <tr>\n",
       "      <th>4</th>\n",
       "      <td>2018-03-01 00:40:00</td>\n",
       "      <td>32</td>\n",
       "    </tr>\n",
       "    <tr>\n",
       "      <th>...</th>\n",
       "      <td>...</td>\n",
       "      <td>...</td>\n",
       "    </tr>\n",
       "    <tr>\n",
       "      <th>26491</th>\n",
       "      <td>2018-08-31 23:10:00</td>\n",
       "      <td>32</td>\n",
       "    </tr>\n",
       "    <tr>\n",
       "      <th>26492</th>\n",
       "      <td>2018-08-31 23:20:00</td>\n",
       "      <td>24</td>\n",
       "    </tr>\n",
       "    <tr>\n",
       "      <th>26493</th>\n",
       "      <td>2018-08-31 23:30:00</td>\n",
       "      <td>27</td>\n",
       "    </tr>\n",
       "    <tr>\n",
       "      <th>26494</th>\n",
       "      <td>2018-08-31 23:40:00</td>\n",
       "      <td>39</td>\n",
       "    </tr>\n",
       "    <tr>\n",
       "      <th>26495</th>\n",
       "      <td>2018-08-31 23:50:00</td>\n",
       "      <td>53</td>\n",
       "    </tr>\n",
       "  </tbody>\n",
       "</table>\n",
       "<p>26496 rows × 2 columns</p>\n",
       "</div>"
      ],
      "text/plain": [
       "                 datetime  num_orders\n",
       "0     2018-03-01 00:00:00           9\n",
       "1     2018-03-01 00:10:00          14\n",
       "2     2018-03-01 00:20:00          28\n",
       "3     2018-03-01 00:30:00          20\n",
       "4     2018-03-01 00:40:00          32\n",
       "...                   ...         ...\n",
       "26491 2018-08-31 23:10:00          32\n",
       "26492 2018-08-31 23:20:00          24\n",
       "26493 2018-08-31 23:30:00          27\n",
       "26494 2018-08-31 23:40:00          39\n",
       "26495 2018-08-31 23:50:00          53\n",
       "\n",
       "[26496 rows x 2 columns]"
      ]
     },
     "execution_count": 8,
     "metadata": {},
     "output_type": "execute_result"
    }
   ],
   "source": [
    "df['datetime'] = df['datetime'].astype('datetime64[ns]')\n",
    "df"
   ]
  },
  {
   "cell_type": "code",
   "execution_count": 9,
   "metadata": {},
   "outputs": [],
   "source": [
    "df.set_index('datetime', inplace=True)"
   ]
  },
  {
   "cell_type": "code",
   "execution_count": 10,
   "metadata": {},
   "outputs": [
    {
     "data": {
      "text/html": [
       "<div>\n",
       "<style scoped>\n",
       "    .dataframe tbody tr th:only-of-type {\n",
       "        vertical-align: middle;\n",
       "    }\n",
       "\n",
       "    .dataframe tbody tr th {\n",
       "        vertical-align: top;\n",
       "    }\n",
       "\n",
       "    .dataframe thead th {\n",
       "        text-align: right;\n",
       "    }\n",
       "</style>\n",
       "<table border=\"1\" class=\"dataframe\">\n",
       "  <thead>\n",
       "    <tr style=\"text-align: right;\">\n",
       "      <th></th>\n",
       "      <th>num_orders</th>\n",
       "    </tr>\n",
       "    <tr>\n",
       "      <th>datetime</th>\n",
       "      <th></th>\n",
       "    </tr>\n",
       "  </thead>\n",
       "  <tbody>\n",
       "    <tr>\n",
       "      <th>2018-03-01 00:00:00</th>\n",
       "      <td>124</td>\n",
       "    </tr>\n",
       "    <tr>\n",
       "      <th>2018-03-01 01:00:00</th>\n",
       "      <td>85</td>\n",
       "    </tr>\n",
       "    <tr>\n",
       "      <th>2018-03-01 02:00:00</th>\n",
       "      <td>71</td>\n",
       "    </tr>\n",
       "    <tr>\n",
       "      <th>2018-03-01 03:00:00</th>\n",
       "      <td>66</td>\n",
       "    </tr>\n",
       "    <tr>\n",
       "      <th>2018-03-01 04:00:00</th>\n",
       "      <td>43</td>\n",
       "    </tr>\n",
       "    <tr>\n",
       "      <th>...</th>\n",
       "      <td>...</td>\n",
       "    </tr>\n",
       "    <tr>\n",
       "      <th>2018-08-31 19:00:00</th>\n",
       "      <td>136</td>\n",
       "    </tr>\n",
       "    <tr>\n",
       "      <th>2018-08-31 20:00:00</th>\n",
       "      <td>154</td>\n",
       "    </tr>\n",
       "    <tr>\n",
       "      <th>2018-08-31 21:00:00</th>\n",
       "      <td>159</td>\n",
       "    </tr>\n",
       "    <tr>\n",
       "      <th>2018-08-31 22:00:00</th>\n",
       "      <td>223</td>\n",
       "    </tr>\n",
       "    <tr>\n",
       "      <th>2018-08-31 23:00:00</th>\n",
       "      <td>205</td>\n",
       "    </tr>\n",
       "  </tbody>\n",
       "</table>\n",
       "<p>4416 rows × 1 columns</p>\n",
       "</div>"
      ],
      "text/plain": [
       "                     num_orders\n",
       "datetime                       \n",
       "2018-03-01 00:00:00         124\n",
       "2018-03-01 01:00:00          85\n",
       "2018-03-01 02:00:00          71\n",
       "2018-03-01 03:00:00          66\n",
       "2018-03-01 04:00:00          43\n",
       "...                         ...\n",
       "2018-08-31 19:00:00         136\n",
       "2018-08-31 20:00:00         154\n",
       "2018-08-31 21:00:00         159\n",
       "2018-08-31 22:00:00         223\n",
       "2018-08-31 23:00:00         205\n",
       "\n",
       "[4416 rows x 1 columns]"
      ]
     },
     "execution_count": 10,
     "metadata": {},
     "output_type": "execute_result"
    }
   ],
   "source": [
    "df = df.resample('H').sum()\n",
    "df"
   ]
  },
  {
   "cell_type": "code",
   "execution_count": 11,
   "metadata": {},
   "outputs": [
    {
     "name": "stdout",
     "output_type": "stream",
     "text": [
      "num_orders    0\n",
      "dtype: int64\n"
     ]
    }
   ],
   "source": [
    "print(df.isna().sum())"
   ]
  },
  {
   "cell_type": "code",
   "execution_count": 21,
   "metadata": {},
   "outputs": [
    {
     "data": {
      "image/png": "[encoded data removed]",
      "text/plain": [
       "<Figure size 1000x400 with 2 Axes>"
      ]
     },
     "metadata": {},
     "output_type": "display_data"
    }
   ],
   "source": [
    "decomposition = seasonal_decompose(df['num_orders'], model='additive')\n",
    "\n",
    "hours_per_day = 24\n",
    "days_per_week = 7\n",
    "hours_in_week = hours_per_day * days_per_week\n",
    "\n",
    "fig, axes = plt.subplots(1, 2, figsize=(10, 4))\n",
    "fig.subplots_adjust(wspace=0.3) \n",
    "\n",
    "decomposition.trend.plot(ax=axes[0], color=\"skyblue\")\n",
    "axes[0].set_xlabel(\"Months\", fontsize=8)\n",
    "axes[0].set_ylabel(\"Trend Effect of Orders\", fontsize=8)\n",
    "axes[0].set_title(\"Trend Component\", fontsize=10, fontweight='bold')\n",
    "axes[0].tick_params(axis='both', labelsize=8)\n",
    "axes[0].spines['top'].set_visible(False)\n",
    "axes[0].spines['right'].set_visible(False)\n",
    "\n",
    "mpl.rcParams[\"font.family\"] = \"sans-serif\"\n",
    "mpl.rcParams[\"font.sans-serif\"] = [\"Arial\", \"Helvetica\", \"DejaVu Sans\", \"Bitstream Vera Sans\"]\n",
    "\n",
    "decomposition.seasonal[0:hours_in_week].plot(ax=axes[1], color=\"steelblue\")\n",
    "axes[1].set_xlabel(\"Day of the Week\", fontsize=8)\n",
    "axes[1].set_ylabel(\"Seasonal Effect of Orders\", fontsize=8)\n",
    "axes[1].set_title(\"Seasonal Component: Weekly Pattern\", fontsize=10, fontweight='bold')\n",
    "axes[1].tick_params(axis='x', labelsize=8)\n",
    "axes[1].tick_params(axis='y', labelsize=8)\n",
    "axes[1].spines['top'].set_visible(False)\n",
    "axes[1].spines['right'].set_visible(False)\n",
    "\n",
    "plt.tight_layout()\n",
    "plt.show()"
   ]
  },
  {
   "cell_type": "markdown",
   "metadata": {},
   "source": [
    "- During the exploratory data analysis (EDA), the date column was converted from an object to datetime64 to ensure the correct data type and then set as the index. The data was also resampled to hourly frequency. \n",
    "\n",
    "- The charts decomposed the data into its trend and seasonal components, with the seasonal component revealing a consistent pattern, indicating clear seasonality in the number of orders.\n",
    "---"
   ]
  },
  {
   "cell_type": "markdown",
   "metadata": {},
   "source": [
    "### Training\n",
    "---"
   ]
  },
  {
   "cell_type": "code",
   "execution_count": 26,
   "metadata": {},
   "outputs": [
    {
     "name": "stdout",
     "output_type": "stream",
     "text": [
      "P-value:  0.0007322730527364528\n"
     ]
    }
   ],
   "source": [
    "train, test = train_test_split(df, shuffle=False, test_size=0.1)\n",
    "df_stationarityTest = adfuller(train, autolag='AIC')\n",
    "print(\"P-value: \", df_stationarityTest[1])"
   ]
  },
  {
   "cell_type": "markdown",
   "metadata": {},
   "source": [
    "- The Augmented Dickey-Fuller (ADF) test is a statistical tool for detecting a unit root in a time series, which indicates non-stationarity. The test assesses the null hypothesis that the series is non-stationary against the alternative of stationarity. A low p-value leads to rejection of the null hypothesis, confirming that the dataset is stationary.\n",
    "---"
   ]
  },
  {
   "cell_type": "markdown",
   "metadata": {},
   "source": [
    "### Testing\n",
    "---"
   ]
  },
  {
   "cell_type": "markdown",
   "metadata": {},
   "source": [
    "#### Autoregressive model\n",
    "---"
   ]
  },
  {
   "cell_type": "code",
   "execution_count": 48,
   "metadata": {},
   "outputs": [
    {
     "name": "stdout",
     "output_type": "stream",
     "text": [
      "RSME AR: 69.9186\n",
      "\n"
     ]
    },
    {
     "data": {
      "image/png": "[encoded data removed]",
      "text/plain": [
       "<Figure size 600x350 with 1 Axes>"
      ]
     },
     "metadata": {},
     "output_type": "display_data"
    }
   ],
   "source": [
    "mod = ar_select_order(endog=train, maxlag=30)\n",
    "ar_order = mod.ar_lags\n",
    "ar_model = AutoReg(train, lags=ar_order, seasonal=True)\n",
    "ar_model = ar_model.fit()\n",
    "\n",
    "start_value = len(train)\n",
    "end_value = len(train) + len(test) - 1\n",
    "ar_pred = ar_model.predict(start=start_value, end=end_value, dynamic=False)\n",
    "\n",
    "MSE_ar = mean_squared_error(test, ar_pred)  \n",
    "RMSE_ar = np.sqrt(MSE_ar)\n",
    "\n",
    "print(\"RSME AR:\", RMSE_ar.round(4))\n",
    "print()\n",
    "\n",
    "plt.figure(figsize=(6, 3.5))\n",
    "plt.plot(ar_pred, color='skyblue', label='Prediction') \n",
    "plt.plot(test, color='steelblue', label='Test Data')\n",
    "plt.legend(loc=\"upper left\", fontsize=8)\n",
    "plt.xlabel(\"Months\", fontsize=8)\n",
    "plt.ylabel(\"Number of Orders\", fontsize=8)\n",
    "plt.title(\"Test versus Prediction\", fontsize=10, fontweight='bold')\n",
    "plt.xticks(rotation=90, fontsize=8)\n",
    "plt.yticks(fontsize=8)\n",
    "\n",
    "ax = plt.gca()  \n",
    "ax.spines['top'].set_visible(False)\n",
    "ax.spines['right'].set_visible(False)\n",
    "\n",
    "plt.show()"
   ]
  },
  {
   "cell_type": "markdown",
   "metadata": {},
   "source": [
    "#### Moving average model\n",
    "---"
   ]
  },
  {
   "cell_type": "code",
   "execution_count": 53,
   "metadata": {},
   "outputs": [
    {
     "name": "stdout",
     "output_type": "stream",
     "text": [
      "RSME MA: 84.6765\n",
      "\n"
     ]
    },
    {
     "data": {
      "image/png": "[encoded data removed]",
      "text/plain": [
       "<Figure size 600x350 with 1 Axes>"
      ]
     },
     "metadata": {},
     "output_type": "display_data"
    }
   ],
   "source": [
    "res = arma_order_select_ic(y=train, max_ar=0, max_ma=10)  \n",
    "ma_order = res.bic_min_order[1] \n",
    "ma_model = ARIMA(train, order=(0,0, ma_order))   \n",
    "ma_model = ma_model.fit()\n",
    "\n",
    "start_value = len(train)\n",
    "end_value = len(train) + len(test) - 1 \n",
    "ma_pred = ma_model.predict(start=start_value, end=end_value, dynamic=False)\n",
    "\n",
    "MSE_ma = mean_squared_error(test, ma_pred)  \n",
    "RMSE_ma = np.sqrt(MSE_ma)\n",
    "\n",
    "print(\"RSME MA:\", RMSE_ma.round(4))\n",
    "print()\n",
    "\n",
    "plt.figure(figsize=(6, 3.5))\n",
    "plt.plot(ma_pred, color='skyblue', label='Prediction') \n",
    "plt.plot(test, color='steelblue', label='Test Data')\n",
    "plt.legend(loc=\"upper left\", fontsize=8)  \n",
    "plt.xlabel(\"Months\", fontsize=8)\n",
    "plt.ylabel(\"Number of Orders\", fontsize=8)\n",
    "plt.title(\"Test versus Prediction\", fontsize=10, fontweight='bold')\n",
    "plt.xticks(rotation=90, fontsize=8)\n",
    "plt.yticks(fontsize=8)\n",
    "\n",
    "ax = plt.gca()  \n",
    "ax.spines['top'].set_visible(False)\n",
    "ax.spines['right'].set_visible(False)\n",
    "mpl.rcParams[\"font.family\"] = \"sans-serif\"\n",
    "mpl.rcParams[\"font.sans-serif\"] = [\"Arial\", \"Helvetica\", \"DejaVu Sans\", \"Bitstream Vera Sans\"]\n",
    "\n",
    "plt.show()"
   ]
  },
  {
   "cell_type": "markdown",
   "metadata": {},
   "source": [
    "#### Autoregressive moving average model\n",
    "---"
   ]
  },
  {
   "cell_type": "code",
   "execution_count": 58,
   "metadata": {},
   "outputs": [
    {
     "name": "stdout",
     "output_type": "stream",
     "text": [
      "Best model: ar_order = 2, ma_order = 4, RSME ARMA: 64.0161\n",
      "\n"
     ]
    },
    {
     "data": {
      "image/png": "[encoded data removed]",
      "text/plain": [
       "<Figure size 600x350 with 1 Axes>"
      ]
     },
     "metadata": {},
     "output_type": "display_data"
    }
   ],
   "source": [
    "best_score = np.inf\n",
    "best_ar_order = 0\n",
    "best_ma_order = 0\n",
    "\n",
    "for ar_order in range(1, 5):\n",
    "    for ma_order in range(1, 5):\n",
    "\n",
    "        arma_full_order = (ar_order, 0, ma_order) \n",
    "        arma_model = ARIMA(train, order=arma_full_order) \n",
    "        arma_model = arma_model.fit()\n",
    "\n",
    "        start_value = len(train)\n",
    "        end_value = len(train) + len(test) - 1 \n",
    "        arma_pred = arma_model.predict(start=start_value, end=end_value, dynamic=False)\n",
    "\n",
    "        MSE_arma = mean_squared_error(test, arma_pred)  \n",
    "        RMSE_arma = np.sqrt(MSE_arma)\n",
    "\n",
    "        if RMSE_arma < best_score:\n",
    "            best_score = RMSE_arma\n",
    "            best_ar_order = ar_order\n",
    "            best_ma_order = ma_order  \n",
    "        \n",
    "print(f\"Best model: ar_order = {best_ar_order}, ma_order = {best_ma_order}, RSME ARMA: {best_score:.4f}\")    \n",
    "print()\n",
    "\n",
    "plt.figure(figsize=(6, 3.5))\n",
    "plt.plot(arma_pred, color='skyblue', label='Prediction') \n",
    "plt.plot(test, color='steelblue', label='Test Data')\n",
    "plt.legend(loc=\"upper left\", fontsize=8)  \n",
    "plt.xlabel(\"Months\", fontsize=8)\n",
    "plt.ylabel(\"Number of Orders\", fontsize=8)\n",
    "plt.title(\"Test versus Prediction\", fontsize=10, fontweight='bold')\n",
    "plt.xticks(rotation=90, fontsize=8)\n",
    "plt.yticks(fontsize=8)\n",
    "\n",
    "ax = plt.gca()  \n",
    "ax.spines['top'].set_visible(False)\n",
    "ax.spines['right'].set_visible(False)\n",
    "mpl.rcParams[\"font.family\"] = \"sans-serif\"\n",
    "mpl.rcParams[\"font.sans-serif\"] = [\"Arial\", \"Helvetica\", \"DejaVu Sans\", \"Bitstream Vera Sans\"]\n",
    "\n",
    "plt.show()\n"
   ]
  },
  {
   "cell_type": "markdown",
   "metadata": {},
   "source": [
    "#### Autoregressive integrated moving average model\n",
    "---"
   ]
  },
  {
   "cell_type": "code",
   "execution_count": 61,
   "metadata": {},
   "outputs": [
    {
     "name": "stdout",
     "output_type": "stream",
     "text": [
      "RSME ARIMA: 58.7512\n",
      "\n"
     ]
    },
    {
     "data": {
      "image/png": "[encoded data removed]",
      "text/plain": [
       "<Figure size 600x350 with 1 Axes>"
      ]
     },
     "metadata": {},
     "output_type": "display_data"
    }
   ],
   "source": [
    "arima_full_order = (2, 3, 2)  \n",
    "arima_model = ARIMA(train, order=arima_full_order)\n",
    "arima_model = arima_model.fit()\n",
    "\n",
    "start_value = len(train)\n",
    "end_value = len(train) + len(test) - 1 \n",
    "arima_pred = arima_model.predict(start=start_value, end=end_value, dynamic=False)\n",
    "\n",
    "MSE_arima = mean_squared_error(test, arima_pred)  \n",
    "RMSE_arima = np.sqrt(MSE_arima)\n",
    "\n",
    "print(\"RSME ARIMA:\", RMSE_arima.round(4))\n",
    "print()\n",
    "\n",
    "plt.figure(figsize=(6, 3.5))\n",
    "plt.plot(arima_pred, color='skyblue', label='Prediction') \n",
    "plt.plot(test, color='steelblue', label='Test Data')\n",
    "plt.legend(loc=\"upper left\", fontsize=8)  \n",
    "plt.xlabel(\"Months\", fontsize=8)\n",
    "plt.ylabel(\"Number of Orders\", fontsize=8)\n",
    "plt.title(\"Test versus Prediction\", fontsize=10, fontweight='bold')\n",
    "plt.xticks(rotation=90, fontsize=8)\n",
    "plt.yticks(fontsize=8)\n",
    "ax = plt.gca()  \n",
    "ax.spines['top'].set_visible(False)\n",
    "ax.spines['right'].set_visible(False)\n",
    "mpl.rcParams[\"font.family\"] = \"sans-serif\"\n",
    "mpl.rcParams[\"font.sans-serif\"] = [\"Arial\", \"Helvetica\", \"DejaVu Sans\", \"Bitstream Vera Sans\"]\n",
    "\n",
    "plt.show()"
   ]
  },
  {
   "cell_type": "markdown",
   "metadata": {},
   "source": [
    "#### Seasonal Autoregressive Integrated Moving Average\n",
    "---"
   ]
  },
  {
   "cell_type": "code",
   "execution_count": 62,
   "metadata": {},
   "outputs": [
    {
     "name": "stdout",
     "output_type": "stream",
     "text": [
      "RSME SARIMA: 65.3513\n",
      "\n"
     ]
    },
    {
     "data": {
      "image/png": "[encoded data removed]",
      "text/plain": [
       "<Figure size 600x350 with 1 Axes>"
      ]
     },
     "metadata": {},
     "output_type": "display_data"
    },
    {
     "data": {
      "text/html": [
       "<table class=\"simpletable\">\n",
       "<caption>SARIMAX Results</caption>\n",
       "<tr>\n",
       "  <th>Dep. Variable:</th>                    <td>y</td>                  <th>  No. Observations:  </th>    <td>3974</td>   \n",
       "</tr>\n",
       "<tr>\n",
       "  <th>Model:</th>           <td>SARIMAX(0, 1, 1)x(0, 0, [1, 2], 12)</td> <th>  Log Likelihood     </th> <td>-19208.997</td>\n",
       "</tr>\n",
       "<tr>\n",
       "  <th>Date:</th>                     <td>Fri, 28 Feb 2025</td>           <th>  AIC                </th>  <td>38425.994</td>\n",
       "</tr>\n",
       "<tr>\n",
       "  <th>Time:</th>                         <td>10:06:42</td>               <th>  BIC                </th>  <td>38451.144</td>\n",
       "</tr>\n",
       "<tr>\n",
       "  <th>Sample:</th>                      <td>03-01-2018</td>              <th>  HQIC               </th>  <td>38434.912</td>\n",
       "</tr>\n",
       "<tr>\n",
       "  <th></th>                            <td>- 08-13-2018</td>             <th>                     </th>      <td> </td>    \n",
       "</tr>\n",
       "<tr>\n",
       "  <th>Covariance Type:</th>                 <td>opg</td>                 <th>                     </th>      <td> </td>    \n",
       "</tr>\n",
       "</table>\n",
       "<table class=\"simpletable\">\n",
       "<tr>\n",
       "      <td></td>        <th>coef</th>     <th>std err</th>      <th>z</th>      <th>P>|z|</th>  <th>[0.025</th>    <th>0.975]</th>  \n",
       "</tr>\n",
       "<tr>\n",
       "  <th>ma.L1</th>    <td>   -0.6830</td> <td>    0.009</td> <td>  -73.493</td> <td> 0.000</td> <td>   -0.701</td> <td>   -0.665</td>\n",
       "</tr>\n",
       "<tr>\n",
       "  <th>ma.S.L12</th> <td>    0.0703</td> <td>    0.015</td> <td>    4.802</td> <td> 0.000</td> <td>    0.042</td> <td>    0.099</td>\n",
       "</tr>\n",
       "<tr>\n",
       "  <th>ma.S.L24</th> <td>    0.3785</td> <td>    0.015</td> <td>   25.796</td> <td> 0.000</td> <td>    0.350</td> <td>    0.407</td>\n",
       "</tr>\n",
       "<tr>\n",
       "  <th>sigma2</th>   <td>  925.9271</td> <td>   15.026</td> <td>   61.623</td> <td> 0.000</td> <td>  896.477</td> <td>  955.377</td>\n",
       "</tr>\n",
       "</table>\n",
       "<table class=\"simpletable\">\n",
       "<tr>\n",
       "  <th>Ljung-Box (L1) (Q):</th>     <td>75.94</td> <th>  Jarque-Bera (JB):  </th> <td>709.05</td>\n",
       "</tr>\n",
       "<tr>\n",
       "  <th>Prob(Q):</th>                <td>0.00</td>  <th>  Prob(JB):          </th>  <td>0.00</td> \n",
       "</tr>\n",
       "<tr>\n",
       "  <th>Heteroskedasticity (H):</th> <td>1.99</td>  <th>  Skew:              </th>  <td>0.29</td> \n",
       "</tr>\n",
       "<tr>\n",
       "  <th>Prob(H) (two-sided):</th>    <td>0.00</td>  <th>  Kurtosis:          </th>  <td>4.99</td> \n",
       "</tr>\n",
       "</table><br/><br/>Warnings:<br/>[1] Covariance matrix calculated using the outer product of gradients (complex-step)."
      ],
      "text/latex": [
       "\\begin{center}\n",
       "\\begin{tabular}{lclc}\n",
       "\\toprule\n",
       "\\textbf{Dep. Variable:}          &                  y                  & \\textbf{  No. Observations:  } &    3974     \\\\\n",
       "\\textbf{Model:}                  & SARIMAX(0, 1, 1)x(0, 0, [1, 2], 12) & \\textbf{  Log Likelihood     } & -19208.997  \\\\\n",
       "\\textbf{Date:}                   &           Fri, 28 Feb 2025          & \\textbf{  AIC                } & 38425.994   \\\\\n",
       "\\textbf{Time:}                   &               10:06:42              & \\textbf{  BIC                } & 38451.144   \\\\\n",
       "\\textbf{Sample:}                 &              03-01-2018             & \\textbf{  HQIC               } & 38434.912   \\\\\n",
       "\\textbf{}                        &             - 08-13-2018            & \\textbf{                     } &             \\\\\n",
       "\\textbf{Covariance Type:}        &                 opg                 & \\textbf{                     } &             \\\\\n",
       "\\bottomrule\n",
       "\\end{tabular}\n",
       "\\begin{tabular}{lcccccc}\n",
       "                  & \\textbf{coef} & \\textbf{std err} & \\textbf{z} & \\textbf{P$> |$z$|$} & \\textbf{[0.025} & \\textbf{0.975]}  \\\\\n",
       "\\midrule\n",
       "\\textbf{ma.L1}    &      -0.6830  &        0.009     &   -73.493  &         0.000        &       -0.701    &       -0.665     \\\\\n",
       "\\textbf{ma.S.L12} &       0.0703  &        0.015     &     4.802  &         0.000        &        0.042    &        0.099     \\\\\n",
       "\\textbf{ma.S.L24} &       0.3785  &        0.015     &    25.796  &         0.000        &        0.350    &        0.407     \\\\\n",
       "\\textbf{sigma2}   &     925.9271  &       15.026     &    61.623  &         0.000        &      896.477    &      955.377     \\\\\n",
       "\\bottomrule\n",
       "\\end{tabular}\n",
       "\\begin{tabular}{lclc}\n",
       "\\textbf{Ljung-Box (L1) (Q):}     & 75.94 & \\textbf{  Jarque-Bera (JB):  } & 709.05  \\\\\n",
       "\\textbf{Prob(Q):}                &  0.00 & \\textbf{  Prob(JB):          } &  0.00   \\\\\n",
       "\\textbf{Heteroskedasticity (H):} &  1.99 & \\textbf{  Skew:              } &  0.29   \\\\\n",
       "\\textbf{Prob(H) (two-sided):}    &  0.00 & \\textbf{  Kurtosis:          } &  4.99   \\\\\n",
       "\\bottomrule\n",
       "\\end{tabular}\n",
       "%\\caption{SARIMAX Results}\n",
       "\\end{center}\n",
       "\n",
       "Warnings: \\newline\n",
       " [1] Covariance matrix calculated using the outer product of gradients (complex-step)."
      ],
      "text/plain": [
       "<class 'statsmodels.iolib.summary.Summary'>\n",
       "\"\"\"\n",
       "                                        SARIMAX Results                                        \n",
       "===============================================================================================\n",
       "Dep. Variable:                                       y   No. Observations:                 3974\n",
       "Model:             SARIMAX(0, 1, 1)x(0, 0, [1, 2], 12)   Log Likelihood              -19208.997\n",
       "Date:                                 Fri, 28 Feb 2025   AIC                          38425.994\n",
       "Time:                                         10:06:42   BIC                          38451.144\n",
       "Sample:                                     03-01-2018   HQIC                         38434.912\n",
       "                                          - 08-13-2018                                         \n",
       "Covariance Type:                                   opg                                         \n",
       "==============================================================================\n",
       "                 coef    std err          z      P>|z|      [0.025      0.975]\n",
       "------------------------------------------------------------------------------\n",
       "ma.L1         -0.6830      0.009    -73.493      0.000      -0.701      -0.665\n",
       "ma.S.L12       0.0703      0.015      4.802      0.000       0.042       0.099\n",
       "ma.S.L24       0.3785      0.015     25.796      0.000       0.350       0.407\n",
       "sigma2       925.9271     15.026     61.623      0.000     896.477     955.377\n",
       "===================================================================================\n",
       "Ljung-Box (L1) (Q):                  75.94   Jarque-Bera (JB):               709.05\n",
       "Prob(Q):                              0.00   Prob(JB):                         0.00\n",
       "Heteroskedasticity (H):               1.99   Skew:                             0.29\n",
       "Prob(H) (two-sided):                  0.00   Kurtosis:                         4.99\n",
       "===================================================================================\n",
       "\n",
       "Warnings:\n",
       "[1] Covariance matrix calculated using the outer product of gradients (complex-step).\n",
       "\"\"\""
      ]
     },
     "execution_count": 62,
     "metadata": {},
     "output_type": "execute_result"
    }
   ],
   "source": [
    "model = auto_arima(train, seasonal=True, m=12, scoring='mse')\n",
    "predictions = model.predict(len(test))\n",
    "x = np.zeros(len(df)) \n",
    "x[:len(train)] = np.nan\n",
    "x[len(train):] = predictions\n",
    "df['predicted_num_orders'] = x\n",
    "auto_arima_rsme = np.sqrt(mean_squared_error(test, predictions))\n",
    "\n",
    "print(\"RSME SARIMA:\", auto_arima_rsme.round(4))\n",
    "print()\n",
    "\n",
    "plt.figure(figsize=(6, 3.5))\n",
    "plt.plot(predictions, color='skyblue', label='Prediction') \n",
    "plt.plot(test, color='steelblue', label='Test Data')\n",
    "plt.legend(loc=\"upper left\", fontsize=8)  \n",
    "plt.xlabel(\"Months\", fontsize=8)\n",
    "plt.ylabel(\"Number of Orders\", fontsize=8)\n",
    "plt.title(\"Test versus Prediction\", fontsize=10, fontweight='bold')\n",
    "plt.xticks(rotation=90, fontsize=8)\n",
    "plt.yticks(fontsize=8)\n",
    "ax = plt.gca()  \n",
    "ax.spines['top'].set_visible(False)\n",
    "ax.spines['right'].set_visible(False)\n",
    "mpl.rcParams[\"font.family\"] = \"sans-serif\"\n",
    "mpl.rcParams[\"font.sans-serif\"] = [\"Arial\", \"Helvetica\", \"DejaVu Sans\", \"Bitstream Vera Sans\"]\n",
    "\n",
    "plt.show()\n",
    "model.summary()"
   ]
  },
  {
   "cell_type": "markdown",
   "metadata": {},
   "source": [
    "- During testing, five models were evaluated using RMSE as the quality metric, with a target threshold of 48 or below. \n",
    "\n",
    "- The tested models included autoregressive, moving average, autoregressive moving average, autoregressive integrated moving average (ARIMA), and seasonal autoregressive integrated moving average (SARIMA). \n",
    "\n",
    "- While the models produced varying RMSE values, none achieved satisfactory results. The best performance came from the ARIMA model, with an RMSE of 58.75. For the SARIMA model, auto_arima was used to identify the optimal combination of parameters (p, d, q), but it also fell short of the threshold at 65.35. \n",
    "\n",
    "- Due to these results, the analysis was expanded to include the Random Forest model.\n",
    "--- "
   ]
  },
  {
   "cell_type": "markdown",
   "metadata": {},
   "source": [
    "#### Random Forest\n",
    "---"
   ]
  },
  {
   "cell_type": "code",
   "execution_count": 65,
   "metadata": {},
   "outputs": [],
   "source": [
    "df_new = df"
   ]
  },
  {
   "cell_type": "code",
   "execution_count": 66,
   "metadata": {
    "scrolled": true
   },
   "outputs": [],
   "source": [
    "df_new = df_new.drop('predicted_num_orders', axis=1)"
   ]
  },
  {
   "cell_type": "code",
   "execution_count": 67,
   "metadata": {},
   "outputs": [
    {
     "data": {
      "text/html": [
       "<div>\n",
       "<style scoped>\n",
       "    .dataframe tbody tr th:only-of-type {\n",
       "        vertical-align: middle;\n",
       "    }\n",
       "\n",
       "    .dataframe tbody tr th {\n",
       "        vertical-align: top;\n",
       "    }\n",
       "\n",
       "    .dataframe thead th {\n",
       "        text-align: right;\n",
       "    }\n",
       "</style>\n",
       "<table border=\"1\" class=\"dataframe\">\n",
       "  <thead>\n",
       "    <tr style=\"text-align: right;\">\n",
       "      <th></th>\n",
       "      <th>datetime</th>\n",
       "      <th>num_orders</th>\n",
       "      <th>year</th>\n",
       "      <th>dayofweek</th>\n",
       "      <th>hourofday</th>\n",
       "      <th>lag_1</th>\n",
       "      <th>lag_2</th>\n",
       "      <th>rolling_mean</th>\n",
       "    </tr>\n",
       "  </thead>\n",
       "  <tbody>\n",
       "    <tr>\n",
       "      <th>0</th>\n",
       "      <td>2018-03-01 09:00:00</td>\n",
       "      <td>69</td>\n",
       "      <td>2018</td>\n",
       "      <td>3</td>\n",
       "      <td>9</td>\n",
       "      <td>34.0</td>\n",
       "      <td>15.0</td>\n",
       "      <td>52.5</td>\n",
       "    </tr>\n",
       "    <tr>\n",
       "      <th>1</th>\n",
       "      <td>2018-03-01 10:00:00</td>\n",
       "      <td>64</td>\n",
       "      <td>2018</td>\n",
       "      <td>3</td>\n",
       "      <td>10</td>\n",
       "      <td>69.0</td>\n",
       "      <td>34.0</td>\n",
       "      <td>46.5</td>\n",
       "    </tr>\n",
       "    <tr>\n",
       "      <th>2</th>\n",
       "      <td>2018-03-01 11:00:00</td>\n",
       "      <td>96</td>\n",
       "      <td>2018</td>\n",
       "      <td>3</td>\n",
       "      <td>11</td>\n",
       "      <td>64.0</td>\n",
       "      <td>69.0</td>\n",
       "      <td>47.6</td>\n",
       "    </tr>\n",
       "    <tr>\n",
       "      <th>3</th>\n",
       "      <td>2018-03-01 12:00:00</td>\n",
       "      <td>30</td>\n",
       "      <td>2018</td>\n",
       "      <td>3</td>\n",
       "      <td>12</td>\n",
       "      <td>96.0</td>\n",
       "      <td>64.0</td>\n",
       "      <td>43.5</td>\n",
       "    </tr>\n",
       "    <tr>\n",
       "      <th>4</th>\n",
       "      <td>2018-03-01 13:00:00</td>\n",
       "      <td>32</td>\n",
       "      <td>2018</td>\n",
       "      <td>3</td>\n",
       "      <td>13</td>\n",
       "      <td>30.0</td>\n",
       "      <td>96.0</td>\n",
       "      <td>40.1</td>\n",
       "    </tr>\n",
       "    <tr>\n",
       "      <th>...</th>\n",
       "      <td>...</td>\n",
       "      <td>...</td>\n",
       "      <td>...</td>\n",
       "      <td>...</td>\n",
       "      <td>...</td>\n",
       "      <td>...</td>\n",
       "      <td>...</td>\n",
       "      <td>...</td>\n",
       "    </tr>\n",
       "    <tr>\n",
       "      <th>4402</th>\n",
       "      <td>2018-08-31 19:00:00</td>\n",
       "      <td>136</td>\n",
       "      <td>2018</td>\n",
       "      <td>4</td>\n",
       "      <td>19</td>\n",
       "      <td>207.0</td>\n",
       "      <td>217.0</td>\n",
       "      <td>166.6</td>\n",
       "    </tr>\n",
       "    <tr>\n",
       "      <th>4403</th>\n",
       "      <td>2018-08-31 20:00:00</td>\n",
       "      <td>154</td>\n",
       "      <td>2018</td>\n",
       "      <td>4</td>\n",
       "      <td>20</td>\n",
       "      <td>136.0</td>\n",
       "      <td>207.0</td>\n",
       "      <td>162.9</td>\n",
       "    </tr>\n",
       "    <tr>\n",
       "      <th>4404</th>\n",
       "      <td>2018-08-31 21:00:00</td>\n",
       "      <td>159</td>\n",
       "      <td>2018</td>\n",
       "      <td>4</td>\n",
       "      <td>21</td>\n",
       "      <td>154.0</td>\n",
       "      <td>136.0</td>\n",
       "      <td>162.1</td>\n",
       "    </tr>\n",
       "    <tr>\n",
       "      <th>4405</th>\n",
       "      <td>2018-08-31 22:00:00</td>\n",
       "      <td>223</td>\n",
       "      <td>2018</td>\n",
       "      <td>4</td>\n",
       "      <td>22</td>\n",
       "      <td>159.0</td>\n",
       "      <td>154.0</td>\n",
       "      <td>170.8</td>\n",
       "    </tr>\n",
       "    <tr>\n",
       "      <th>4406</th>\n",
       "      <td>2018-08-31 23:00:00</td>\n",
       "      <td>205</td>\n",
       "      <td>2018</td>\n",
       "      <td>4</td>\n",
       "      <td>23</td>\n",
       "      <td>223.0</td>\n",
       "      <td>159.0</td>\n",
       "      <td>174.7</td>\n",
       "    </tr>\n",
       "  </tbody>\n",
       "</table>\n",
       "<p>4407 rows × 8 columns</p>\n",
       "</div>"
      ],
      "text/plain": [
       "                datetime  num_orders  year  dayofweek  hourofday  lag_1  \\\n",
       "0    2018-03-01 09:00:00          69  2018          3          9   34.0   \n",
       "1    2018-03-01 10:00:00          64  2018          3         10   69.0   \n",
       "2    2018-03-01 11:00:00          96  2018          3         11   64.0   \n",
       "3    2018-03-01 12:00:00          30  2018          3         12   96.0   \n",
       "4    2018-03-01 13:00:00          32  2018          3         13   30.0   \n",
       "...                  ...         ...   ...        ...        ...    ...   \n",
       "4402 2018-08-31 19:00:00         136  2018          4         19  207.0   \n",
       "4403 2018-08-31 20:00:00         154  2018          4         20  136.0   \n",
       "4404 2018-08-31 21:00:00         159  2018          4         21  154.0   \n",
       "4405 2018-08-31 22:00:00         223  2018          4         22  159.0   \n",
       "4406 2018-08-31 23:00:00         205  2018          4         23  223.0   \n",
       "\n",
       "      lag_2  rolling_mean  \n",
       "0      15.0          52.5  \n",
       "1      34.0          46.5  \n",
       "2      69.0          47.6  \n",
       "3      64.0          43.5  \n",
       "4      96.0          40.1  \n",
       "...     ...           ...  \n",
       "4402  217.0         166.6  \n",
       "4403  207.0         162.9  \n",
       "4404  136.0         162.1  \n",
       "4405  154.0         170.8  \n",
       "4406  159.0         174.7  \n",
       "\n",
       "[4407 rows x 8 columns]"
      ]
     },
     "execution_count": 67,
     "metadata": {},
     "output_type": "execute_result"
    }
   ],
   "source": [
    "df_new['year'] = df_new.index.year \n",
    "df_new['dayofweek'] = df_new.index.dayofweek\n",
    "df_new['hourofday'] = df_new.index.hour\n",
    "df_new['lag_1'] = df_new['num_orders'].shift(1)\n",
    "df_new['lag_2'] = df_new['num_orders'].shift(2)\n",
    "df_new['rolling_mean'] = df_new['num_orders'].rolling(10).mean()\n",
    "df_new = df_new.dropna()\n",
    "df_new = df_new.reset_index()\n",
    "df_new"
   ]
  },
  {
   "cell_type": "code",
   "execution_count": 68,
   "metadata": {},
   "outputs": [],
   "source": [
    "features = df_new.drop(['num_orders','datetime'], axis=1)\n",
    "target = df_new['num_orders']"
   ]
  },
  {
   "cell_type": "code",
   "execution_count": 69,
   "metadata": {},
   "outputs": [],
   "source": [
    "features_train, features_test, target_train, target_test = train_test_split(features, target, shuffle=False, test_size=0.1)"
   ]
  },
  {
   "cell_type": "code",
   "execution_count": 70,
   "metadata": {},
   "outputs": [
    {
     "name": "stdout",
     "output_type": "stream",
     "text": [
      "RSME Random Forest: 41.9439\n"
     ]
    }
   ],
   "source": [
    "model = RandomForestRegressor()\n",
    "model.fit(features_train, target_train)\n",
    "predictions = model.predict(features_test)\n",
    "random_forest_rsme = np.sqrt(mean_squared_error(target_test, predictions))\n",
    "\n",
    "print(\"RSME Random Forest:\", random_forest_rsme.round(4))\n"
   ]
  },
  {
   "cell_type": "markdown",
   "metadata": {},
   "source": [
    "- To run the Random Forest model, the dataset was modified to include new columns as features—specifically, the year, day of the week, hour of the day, lags, and the rolling mean of the num_orders data.\n",
    "\n",
    "- Next, these new columns were designated as features while num_orders was set as the target variable. Rows with NaN values, introduced by the lag and rolling mean calculations, were removed to prevent issues with the train-test split. The shuffle parameter was set to False to preserve the chronological order of the time series data. After running the model, an RMSE of 41.94 was achieved, which is significantly better than the performance of other models and below the threshold of 48. Consequently, this model is considered the best performer for the task.\n",
    "---"
   ]
  },
  {
   "cell_type": "markdown",
   "metadata": {},
   "source": [
    "### Conclusion\n",
    "---\n",
    "This project aimed to forecast the number of orders using various models while maintaining an RMSE threshold of 48 or below. Traditional time series models such as ARIMA and SARIMA were tested, but their RMSE values did not meet the target. To improve results, a Random Forest model was implemented by introducing additional features, such as year, day of the week, hour, lags, and rolling means. After addressing NaN values and ensuring chronological order in the train-test split, the Random Forest model achieved an RMSE of 41.94, outperforming all other models and meeting the threshold. This demonstrates the effectiveness of incorporating feature engineering and machine learning for time series forecasting."
   ]
  },
  {
   "cell_type": "code",
   "execution_count": 105,
   "metadata": {},
   "outputs": [
    {
     "data": {
      "image/png": "[encoded data removed]",
      "text/plain": [
       "<Figure size 800x520 with 1 Axes>"
      ]
     },
     "metadata": {},
     "output_type": "display_data"
    }
   ],
   "source": [
    "Models = ['Autoregressive', 'Moving Average', 'Autoregressive Moving Average', 'ARIMA', 'SARIMA', 'Random Forest']\n",
    "RMSE_vars = [RMSE_ar, RMSE_ma, RMSE_arma, RMSE_arima, auto_arima_rsme, random_forest_rsme]\n",
    "\n",
    "data = pd.DataFrame({'Models': Models, 'RSME_Test': RMSE_vars})\n",
    "data = data.sort_values(by='RSME_Test', ascending=False)\n",
    "\n",
    "melted_data = data.melt(id_vars=['Models'], value_vars=['RSME_Test'],\n",
    "                        var_name='Metric', value_name='RSME')\n",
    "\n",
    "sns.set_theme(style=\"white\", palette=\"Blues_d\")\n",
    "\n",
    "fig, ax1 = plt.subplots(figsize=(8, 5.2))\n",
    "custom_palette = {'RSME_Test': 'skyblue'}\n",
    "\n",
    "sns.barplot(data=melted_data, x='Models', y='RSME', hue='Metric', ax=ax1,\n",
    "            palette=custom_palette, edgecolor='black')\n",
    "\n",
    "ax1.grid(False)\n",
    "\n",
    "ax1.set_ylabel('RSME', fontsize=9)\n",
    "ax1.set_xlabel('Models', fontsize=9)\n",
    "ax1.set_ylim(0, 120)\n",
    "ax1.tick_params(axis='y', labelsize=8)\n",
    "ax1.set_title('Comparison of Models: RSME Test', fontweight='bold', fontsize=10)\n",
    "ax1.legend(loc='upper left', title='RSME Metrics', fontsize=8, title_fontsize=8)\n",
    "ax1.set_xticklabels(data['Models'], rotation=90, ha='right', fontsize=8)\n",
    "\n",
    "for patch in ax1.patches:\n",
    "    current_width = patch.get_width()\n",
    "    new_width = current_width * 0.7  \n",
    "    diff = current_width - new_width\n",
    "    patch.set_width(new_width)\n",
    "    patch.set_x(patch.get_x() + diff / 2)\n",
    "    \n",
    "    height = patch.get_height()\n",
    "    if height != 0:\n",
    "        ax1.annotate(f'{height:.1f}', \n",
    "                     (patch.get_x() + new_width / 2, height),\n",
    "                     ha='center', va='bottom', fontsize=8, color='navy')\n",
    "\n",
    "plt.tight_layout()\n",
    "\n",
    "ax1.spines['top'].set_visible(False)\n",
    "ax1.spines['right'].set_visible(False)\n",
    "\n",
    "mpl.rcParams[\"font.family\"] = \"sans-serif\"\n",
    "mpl.rcParams[\"font.sans-serif\"] = [\"Arial\", \"Helvetica\", \"DejaVu Sans\", \"Bitstream Vera Sans\"]\n",
    "\n",
    "plt.show()"
   ]
  },
  {
   "cell_type": "code",
   "execution_count": null,
   "metadata": {},
   "outputs": [],
   "source": []
  }
 ],
 "metadata": {
  "ExecuteTimeLog": [
   {
    "duration": 312,
    "start_time": "2025-01-21T19:35:32.736Z"
   },
   {
    "duration": 26,
    "start_time": "2025-01-21T19:37:05.302Z"
   },
   {
    "duration": 23,
    "start_time": "2025-01-21T19:37:08.389Z"
   },
   {
    "duration": 22,
    "start_time": "2025-01-21T19:37:29.099Z"
   },
   {
    "duration": 21,
    "start_time": "2025-01-21T19:37:51.958Z"
   },
   {
    "duration": 21,
    "start_time": "2025-01-21T19:38:03.993Z"
   },
   {
    "duration": 19,
    "start_time": "2025-01-21T19:38:25.879Z"
   },
   {
    "duration": 17,
    "start_time": "2025-01-21T19:38:31.895Z"
   },
   {
    "duration": 18,
    "start_time": "2025-01-21T19:38:42.215Z"
   },
   {
    "duration": 6,
    "start_time": "2025-01-21T19:38:47.804Z"
   },
   {
    "duration": 17,
    "start_time": "2025-01-21T19:39:06.065Z"
   },
   {
    "duration": 20,
    "start_time": "2025-01-21T19:39:10.450Z"
   },
   {
    "duration": 25,
    "start_time": "2025-01-21T19:40:13.320Z"
   },
   {
    "duration": 12,
    "start_time": "2025-01-21T19:42:16.628Z"
   },
   {
    "duration": 23,
    "start_time": "2025-01-21T19:42:35.732Z"
   },
   {
    "duration": 175,
    "start_time": "2025-01-21T19:45:40.031Z"
   },
   {
    "duration": 348,
    "start_time": "2025-01-21T19:45:53.672Z"
   },
   {
    "duration": 98,
    "start_time": "2025-01-21T19:45:57.402Z"
   },
   {
    "duration": 28,
    "start_time": "2025-01-21T19:47:25.093Z"
   },
   {
    "duration": 26,
    "start_time": "2025-01-21T19:48:20.882Z"
   },
   {
    "duration": 20,
    "start_time": "2025-01-21T19:48:41.345Z"
   },
   {
    "duration": 7,
    "start_time": "2025-01-21T19:48:48.022Z"
   },
   {
    "duration": 20,
    "start_time": "2025-01-21T19:48:55.165Z"
   },
   {
    "duration": 9,
    "start_time": "2025-01-21T19:48:57.218Z"
   },
   {
    "duration": 399,
    "start_time": "2025-01-21T19:49:42.824Z"
   },
   {
    "duration": 10,
    "start_time": "2025-01-21T19:49:56.736Z"
   },
   {
    "duration": 28,
    "start_time": "2025-01-21T19:50:06.318Z"
   },
   {
    "duration": 10,
    "start_time": "2025-01-21T19:51:28.579Z"
   },
   {
    "duration": 28,
    "start_time": "2025-01-21T19:51:34.872Z"
   },
   {
    "duration": 1840,
    "start_time": "2025-01-21T19:52:04.909Z"
   },
   {
    "duration": 23,
    "start_time": "2025-01-21T19:52:08.431Z"
   },
   {
    "duration": 9,
    "start_time": "2025-01-21T19:52:08.835Z"
   },
   {
    "duration": 77,
    "start_time": "2025-01-21T19:52:10.758Z"
   },
   {
    "duration": 36,
    "start_time": "2025-01-21T19:52:12.865Z"
   },
   {
    "duration": 3,
    "start_time": "2025-01-21T19:52:49.970Z"
   },
   {
    "duration": 21,
    "start_time": "2025-01-21T19:52:50.906Z"
   },
   {
    "duration": 594,
    "start_time": "2025-01-21T19:53:25.539Z"
   },
   {
    "duration": 10,
    "start_time": "2025-01-21T19:53:39.279Z"
   },
   {
    "duration": 5,
    "start_time": "2025-01-21T19:53:55.193Z"
   },
   {
    "duration": 27,
    "start_time": "2025-01-21T19:53:58.729Z"
   },
   {
    "duration": 23,
    "start_time": "2025-01-21T19:54:03.156Z"
   },
   {
    "duration": 4,
    "start_time": "2025-01-21T19:54:04.363Z"
   },
   {
    "duration": 25,
    "start_time": "2025-01-21T19:54:08.862Z"
   },
   {
    "duration": 22,
    "start_time": "2025-01-21T19:54:15.763Z"
   },
   {
    "duration": 9,
    "start_time": "2025-01-21T19:54:16.849Z"
   },
   {
    "duration": 22,
    "start_time": "2025-01-21T19:55:07.549Z"
   },
   {
    "duration": 14,
    "start_time": "2025-01-21T19:55:13.800Z"
   },
   {
    "duration": 13,
    "start_time": "2025-01-21T19:55:28.357Z"
   },
   {
    "duration": 8,
    "start_time": "2025-01-21T19:57:05.396Z"
   },
   {
    "duration": 23,
    "start_time": "2025-01-21T19:57:26.924Z"
   },
   {
    "duration": 22,
    "start_time": "2025-01-21T19:57:31.631Z"
   },
   {
    "duration": 13,
    "start_time": "2025-01-21T19:57:33.285Z"
   },
   {
    "duration": 3,
    "start_time": "2025-01-21T19:57:35.216Z"
   },
   {
    "duration": 14,
    "start_time": "2025-01-21T19:57:43.696Z"
   },
   {
    "duration": 2,
    "start_time": "2025-01-21T19:57:59.864Z"
   },
   {
    "duration": 21,
    "start_time": "2025-01-21T19:58:00.769Z"
   },
   {
    "duration": 13,
    "start_time": "2025-01-21T19:58:01.277Z"
   },
   {
    "duration": 3,
    "start_time": "2025-01-21T19:58:02.039Z"
   },
   {
    "duration": 15,
    "start_time": "2025-01-21T19:58:03.644Z"
   },
   {
    "duration": 13,
    "start_time": "2025-01-21T19:58:08.338Z"
   },
   {
    "duration": 13,
    "start_time": "2025-01-21T19:58:23.991Z"
   },
   {
    "duration": 14,
    "start_time": "2025-01-21T19:58:27.029Z"
   },
   {
    "duration": 24,
    "start_time": "2025-01-21T19:58:55.773Z"
   },
   {
    "duration": 14,
    "start_time": "2025-01-21T19:58:57.037Z"
   },
   {
    "duration": 3,
    "start_time": "2025-01-21T19:59:00.556Z"
   },
   {
    "duration": 14,
    "start_time": "2025-01-21T19:59:06.044Z"
   },
   {
    "duration": 13,
    "start_time": "2025-01-21T19:59:12.088Z"
   },
   {
    "duration": 21,
    "start_time": "2025-01-21T19:59:17.548Z"
   },
   {
    "duration": 13,
    "start_time": "2025-01-21T19:59:18.194Z"
   },
   {
    "duration": 4,
    "start_time": "2025-01-21T19:59:18.865Z"
   },
   {
    "duration": 3,
    "start_time": "2025-01-21T19:59:29.413Z"
   },
   {
    "duration": 3,
    "start_time": "2025-01-21T19:59:32.578Z"
   },
   {
    "duration": 2,
    "start_time": "2025-01-21T19:59:40.067Z"
   },
   {
    "duration": 13,
    "start_time": "2025-01-21T19:59:46.474Z"
   },
   {
    "duration": 14,
    "start_time": "2025-01-21T20:00:03.375Z"
   },
   {
    "duration": 14,
    "start_time": "2025-01-21T20:03:19.170Z"
   },
   {
    "duration": 17,
    "start_time": "2025-01-21T20:03:23.359Z"
   },
   {
    "duration": 22,
    "start_time": "2025-01-21T20:03:27.443Z"
   },
   {
    "duration": 14,
    "start_time": "2025-01-21T20:03:28.761Z"
   },
   {
    "duration": 14,
    "start_time": "2025-01-21T20:03:32.458Z"
   },
   {
    "duration": 13,
    "start_time": "2025-01-21T20:03:51.855Z"
   },
   {
    "duration": 21,
    "start_time": "2025-01-21T20:04:04.636Z"
   },
   {
    "duration": 13,
    "start_time": "2025-01-21T20:04:18.200Z"
   },
   {
    "duration": 3,
    "start_time": "2025-01-21T20:04:35.132Z"
   },
   {
    "duration": 3,
    "start_time": "2025-01-21T20:04:50.459Z"
   },
   {
    "duration": 3,
    "start_time": "2025-01-21T20:04:58.523Z"
   },
   {
    "duration": 21,
    "start_time": "2025-01-21T20:12:04.126Z"
   },
   {
    "duration": 12,
    "start_time": "2025-01-21T20:12:05.207Z"
   },
   {
    "duration": 3,
    "start_time": "2025-01-21T20:12:08.416Z"
   },
   {
    "duration": 7,
    "start_time": "2025-01-21T20:12:12.167Z"
   },
   {
    "duration": 13,
    "start_time": "2025-01-21T20:12:47.352Z"
   },
   {
    "duration": 233,
    "start_time": "2025-01-21T20:12:58.142Z"
   },
   {
    "duration": 512,
    "start_time": "2025-01-21T20:16:36.276Z"
   },
   {
    "duration": 46,
    "start_time": "2025-01-21T20:17:09.078Z"
   },
   {
    "duration": 620,
    "start_time": "2025-01-21T20:17:24.783Z"
   },
   {
    "duration": 522,
    "start_time": "2025-01-21T20:19:07.734Z"
   },
   {
    "duration": 4,
    "start_time": "2025-01-21T20:20:00.746Z"
   },
   {
    "duration": 15,
    "start_time": "2025-01-21T20:22:34.885Z"
   },
   {
    "duration": 17,
    "start_time": "2025-01-21T20:23:45.755Z"
   },
   {
    "duration": 112,
    "start_time": "2025-01-21T20:23:58.780Z"
   },
   {
    "duration": 116,
    "start_time": "2025-01-21T20:26:37.480Z"
   },
   {
    "duration": 145,
    "start_time": "2025-01-21T20:30:24.456Z"
   },
   {
    "duration": 129,
    "start_time": "2025-01-21T20:30:42.313Z"
   },
   {
    "duration": 306,
    "start_time": "2025-01-21T20:33:10.509Z"
   },
   {
    "duration": 324,
    "start_time": "2025-01-21T20:33:57.087Z"
   },
   {
    "duration": 191,
    "start_time": "2025-01-21T20:36:16.469Z"
   },
   {
    "duration": 735,
    "start_time": "2025-01-21T20:36:49.888Z"
   },
   {
    "duration": 4,
    "start_time": "2025-01-21T20:37:02.076Z"
   },
   {
    "duration": 368,
    "start_time": "2025-01-21T20:37:14.443Z"
   },
   {
    "duration": 3,
    "start_time": "2025-01-21T20:42:54.450Z"
   },
   {
    "duration": 305,
    "start_time": "2025-01-21T20:43:13.628Z"
   },
   {
    "duration": 394,
    "start_time": "2025-01-21T20:43:58.719Z"
   },
   {
    "duration": 302,
    "start_time": "2025-01-21T20:47:23.571Z"
   },
   {
    "duration": 3,
    "start_time": "2025-01-21T20:52:48.220Z"
   },
   {
    "duration": 5,
    "start_time": "2025-01-21T20:54:36.048Z"
   },
   {
    "duration": 495,
    "start_time": "2025-01-21T20:54:46.381Z"
   },
   {
    "duration": 549,
    "start_time": "2025-01-21T20:55:14.331Z"
   },
   {
    "duration": 3,
    "start_time": "2025-01-21T20:59:08.630Z"
   },
   {
    "duration": 512,
    "start_time": "2025-01-21T20:59:24.889Z"
   },
   {
    "duration": 82640,
    "start_time": "2025-01-21T21:02:20.602Z"
   },
   {
    "duration": 543,
    "start_time": "2025-01-21T21:11:50.140Z"
   },
   {
    "duration": 19725,
    "start_time": "2025-01-21T21:16:29.855Z"
   },
   {
    "duration": 512,
    "start_time": "2025-01-21T21:17:25.061Z"
   },
   {
    "duration": 801,
    "start_time": "2025-01-21T21:19:48.618Z"
   },
   {
    "duration": 162,
    "start_time": "2025-01-21T21:31:19.501Z"
   },
   {
    "duration": 1143,
    "start_time": "2025-01-21T21:31:37.408Z"
   },
   {
    "duration": 116,
    "start_time": "2025-01-21T21:31:44.110Z"
   },
   {
    "duration": 1076,
    "start_time": "2025-01-21T21:31:52.209Z"
   },
   {
    "duration": 28,
    "start_time": "2025-01-21T21:31:53.287Z"
   },
   {
    "duration": 14,
    "start_time": "2025-01-21T21:31:53.316Z"
   },
   {
    "duration": 2,
    "start_time": "2025-01-21T21:31:53.334Z"
   },
   {
    "duration": 11,
    "start_time": "2025-01-21T21:31:53.338Z"
   },
   {
    "duration": 4,
    "start_time": "2025-01-21T21:31:53.350Z"
   },
   {
    "duration": 281,
    "start_time": "2025-01-21T21:31:53.355Z"
   },
   {
    "duration": 0,
    "start_time": "2025-01-21T21:31:53.638Z"
   },
   {
    "duration": 0,
    "start_time": "2025-01-21T21:31:53.638Z"
   },
   {
    "duration": 0,
    "start_time": "2025-01-21T21:31:53.640Z"
   },
   {
    "duration": 0,
    "start_time": "2025-01-21T21:31:53.641Z"
   },
   {
    "duration": 0,
    "start_time": "2025-01-21T21:31:53.642Z"
   },
   {
    "duration": 0,
    "start_time": "2025-01-21T21:31:53.643Z"
   },
   {
    "duration": 0,
    "start_time": "2025-01-21T21:31:53.644Z"
   },
   {
    "duration": 400,
    "start_time": "2025-01-21T21:32:13.383Z"
   },
   {
    "duration": 1128,
    "start_time": "2025-01-21T21:32:21.359Z"
   },
   {
    "duration": 28,
    "start_time": "2025-01-21T21:32:22.489Z"
   },
   {
    "duration": 13,
    "start_time": "2025-01-21T21:32:22.518Z"
   },
   {
    "duration": 3,
    "start_time": "2025-01-21T21:32:22.533Z"
   },
   {
    "duration": 11,
    "start_time": "2025-01-21T21:32:22.538Z"
   },
   {
    "duration": 3,
    "start_time": "2025-01-21T21:32:22.551Z"
   },
   {
    "duration": 347,
    "start_time": "2025-01-21T21:32:22.556Z"
   },
   {
    "duration": 5,
    "start_time": "2025-01-21T21:32:22.905Z"
   },
   {
    "duration": 399,
    "start_time": "2025-01-21T21:32:22.912Z"
   },
   {
    "duration": 642,
    "start_time": "2025-01-21T21:32:23.314Z"
   },
   {
    "duration": 86356,
    "start_time": "2025-01-21T21:32:23.957Z"
   },
   {
    "duration": 633,
    "start_time": "2025-01-21T21:33:50.315Z"
   },
   {
    "duration": 960,
    "start_time": "2025-01-21T21:33:50.950Z"
   },
   {
    "duration": 199903,
    "start_time": "2025-01-21T21:33:51.911Z"
   },
   {
    "duration": 161,
    "start_time": "2025-01-21T21:39:50.962Z"
   },
   {
    "duration": 1107,
    "start_time": "2025-01-21T21:39:57.852Z"
   },
   {
    "duration": 28,
    "start_time": "2025-01-21T21:39:58.961Z"
   },
   {
    "duration": 18,
    "start_time": "2025-01-21T21:39:58.991Z"
   },
   {
    "duration": 3,
    "start_time": "2025-01-21T21:39:59.011Z"
   },
   {
    "duration": 13,
    "start_time": "2025-01-21T21:39:59.015Z"
   },
   {
    "duration": 4,
    "start_time": "2025-01-21T21:39:59.029Z"
   },
   {
    "duration": 388,
    "start_time": "2025-01-21T21:39:59.035Z"
   },
   {
    "duration": 4,
    "start_time": "2025-01-21T21:39:59.424Z"
   },
   {
    "duration": 385,
    "start_time": "2025-01-21T21:39:59.429Z"
   },
   {
    "duration": 638,
    "start_time": "2025-01-21T21:39:59.818Z"
   },
   {
    "duration": 86653,
    "start_time": "2025-01-21T21:40:00.458Z"
   },
   {
    "duration": 659,
    "start_time": "2025-01-21T21:41:27.113Z"
   },
   {
    "duration": 960,
    "start_time": "2025-01-21T21:41:27.774Z"
   },
   {
    "duration": 172,
    "start_time": "2025-01-22T00:50:37.396Z"
   },
   {
    "duration": 2820,
    "start_time": "2025-01-22T00:50:43.815Z"
   },
   {
    "duration": 37,
    "start_time": "2025-01-22T00:50:46.637Z"
   },
   {
    "duration": 14,
    "start_time": "2025-01-22T00:50:46.675Z"
   },
   {
    "duration": 2,
    "start_time": "2025-01-22T00:50:46.691Z"
   },
   {
    "duration": 11,
    "start_time": "2025-01-22T00:50:46.696Z"
   },
   {
    "duration": 4,
    "start_time": "2025-01-22T00:50:46.708Z"
   },
   {
    "duration": 344,
    "start_time": "2025-01-22T00:50:46.714Z"
   },
   {
    "duration": 4,
    "start_time": "2025-01-22T00:50:47.060Z"
   },
   {
    "duration": 420,
    "start_time": "2025-01-22T00:50:47.066Z"
   },
   {
    "duration": 621,
    "start_time": "2025-01-22T00:50:47.488Z"
   },
   {
    "duration": 85607,
    "start_time": "2025-01-22T00:50:48.112Z"
   },
   {
    "duration": 634,
    "start_time": "2025-01-22T00:52:13.721Z"
   },
   {
    "duration": 884,
    "start_time": "2025-01-22T00:52:14.357Z"
   },
   {
    "duration": 159,
    "start_time": "2025-01-22T00:56:36.085Z"
   },
   {
    "duration": 16,
    "start_time": "2025-01-22T01:07:55.555Z"
   },
   {
    "duration": 1146,
    "start_time": "2025-01-22T01:08:26.210Z"
   },
   {
    "duration": 34,
    "start_time": "2025-01-22T01:08:27.358Z"
   },
   {
    "duration": 14,
    "start_time": "2025-01-22T01:08:27.394Z"
   },
   {
    "duration": 3,
    "start_time": "2025-01-22T01:08:27.410Z"
   },
   {
    "duration": 11,
    "start_time": "2025-01-22T01:08:27.415Z"
   },
   {
    "duration": 4,
    "start_time": "2025-01-22T01:08:27.427Z"
   },
   {
    "duration": 349,
    "start_time": "2025-01-22T01:08:27.433Z"
   },
   {
    "duration": 4,
    "start_time": "2025-01-22T01:08:27.786Z"
   },
   {
    "duration": 399,
    "start_time": "2025-01-22T01:08:27.791Z"
   },
   {
    "duration": 764,
    "start_time": "2025-01-22T01:08:28.192Z"
   },
   {
    "duration": 85835,
    "start_time": "2025-01-22T01:08:28.958Z"
   },
   {
    "duration": 573,
    "start_time": "2025-01-22T01:09:54.794Z"
   },
   {
    "duration": 828,
    "start_time": "2025-01-22T01:09:55.369Z"
   },
   {
    "duration": 158,
    "start_time": "2025-01-22T01:14:57.495Z"
   },
   {
    "duration": 1141,
    "start_time": "2025-01-22T01:15:04.228Z"
   },
   {
    "duration": 30,
    "start_time": "2025-01-22T01:15:05.372Z"
   },
   {
    "duration": 14,
    "start_time": "2025-01-22T01:15:05.404Z"
   },
   {
    "duration": 3,
    "start_time": "2025-01-22T01:15:05.420Z"
   },
   {
    "duration": 10,
    "start_time": "2025-01-22T01:15:05.426Z"
   },
   {
    "duration": 3,
    "start_time": "2025-01-22T01:15:05.438Z"
   },
   {
    "duration": 359,
    "start_time": "2025-01-22T01:15:05.443Z"
   },
   {
    "duration": 4,
    "start_time": "2025-01-22T01:15:05.804Z"
   },
   {
    "duration": 382,
    "start_time": "2025-01-22T01:15:05.810Z"
   },
   {
    "duration": 753,
    "start_time": "2025-01-22T01:15:06.194Z"
   },
   {
    "duration": 85704,
    "start_time": "2025-01-22T01:15:06.948Z"
   },
   {
    "duration": 575,
    "start_time": "2025-01-22T01:16:32.654Z"
   },
   {
    "duration": 921,
    "start_time": "2025-01-22T01:16:33.231Z"
   },
   {
    "duration": 157,
    "start_time": "2025-01-22T01:20:39.475Z"
   },
   {
    "duration": 12,
    "start_time": "2025-01-22T01:20:49.739Z"
   },
   {
    "duration": 14,
    "start_time": "2025-01-22T01:21:21.474Z"
   },
   {
    "duration": 1121,
    "start_time": "2025-01-22T01:24:11.179Z"
   },
   {
    "duration": 28,
    "start_time": "2025-01-22T01:24:12.302Z"
   },
   {
    "duration": 16,
    "start_time": "2025-01-22T01:24:12.331Z"
   },
   {
    "duration": 3,
    "start_time": "2025-01-22T01:24:12.349Z"
   },
   {
    "duration": 11,
    "start_time": "2025-01-22T01:24:12.354Z"
   },
   {
    "duration": 4,
    "start_time": "2025-01-22T01:24:12.387Z"
   },
   {
    "duration": 327,
    "start_time": "2025-01-22T01:24:12.392Z"
   },
   {
    "duration": 3,
    "start_time": "2025-01-22T01:24:12.721Z"
   },
   {
    "duration": 466,
    "start_time": "2025-01-22T01:24:12.727Z"
   },
   {
    "duration": 866,
    "start_time": "2025-01-22T01:24:13.197Z"
   },
   {
    "duration": 86104,
    "start_time": "2025-01-22T01:24:14.066Z"
   },
   {
    "duration": 563,
    "start_time": "2025-01-22T01:25:40.172Z"
   },
   {
    "duration": 821,
    "start_time": "2025-01-22T01:25:40.738Z"
   },
   {
    "duration": 1186,
    "start_time": "2025-01-22T01:31:38.896Z"
   },
   {
    "duration": 29,
    "start_time": "2025-01-22T01:31:40.084Z"
   },
   {
    "duration": 16,
    "start_time": "2025-01-22T01:31:40.115Z"
   },
   {
    "duration": 6,
    "start_time": "2025-01-22T01:31:40.133Z"
   },
   {
    "duration": 16,
    "start_time": "2025-01-22T01:31:40.141Z"
   },
   {
    "duration": 5,
    "start_time": "2025-01-22T01:31:40.159Z"
   },
   {
    "duration": 355,
    "start_time": "2025-01-22T01:31:40.165Z"
   },
   {
    "duration": 4,
    "start_time": "2025-01-22T01:31:40.522Z"
   },
   {
    "duration": 371,
    "start_time": "2025-01-22T01:31:40.529Z"
   },
   {
    "duration": 677,
    "start_time": "2025-01-22T01:31:40.903Z"
   },
   {
    "duration": 86371,
    "start_time": "2025-01-22T01:31:41.581Z"
   },
   {
    "duration": 586,
    "start_time": "2025-01-22T01:33:07.954Z"
   },
   {
    "duration": 1045,
    "start_time": "2025-01-22T01:33:08.542Z"
   },
   {
    "duration": 8,
    "start_time": "2025-01-22T01:35:49.367Z"
   },
   {
    "duration": 23202,
    "start_time": "2025-01-22T01:43:54.391Z"
   },
   {
    "duration": 13,
    "start_time": "2025-01-22T01:44:29.301Z"
   },
   {
    "duration": 3,
    "start_time": "2025-01-22T01:44:53.797Z"
   },
   {
    "duration": 2,
    "start_time": "2025-01-22T01:44:54.578Z"
   },
   {
    "duration": 2,
    "start_time": "2025-01-22T01:44:56.182Z"
   },
   {
    "duration": 4,
    "start_time": "2025-01-22T01:44:58.042Z"
   },
   {
    "duration": 4,
    "start_time": "2025-01-22T01:44:58.626Z"
   },
   {
    "duration": 385,
    "start_time": "2025-01-22T01:44:59.393Z"
   },
   {
    "duration": 353,
    "start_time": "2025-01-22T01:47:16.474Z"
   },
   {
    "duration": 357,
    "start_time": "2025-01-22T01:47:48.530Z"
   },
   {
    "duration": 439,
    "start_time": "2025-01-22T01:47:53.720Z"
   },
   {
    "duration": 10697,
    "start_time": "2025-01-22T01:48:59.800Z"
   },
   {
    "duration": 156,
    "start_time": "2025-01-22T03:05:18.591Z"
   },
   {
    "duration": 1128,
    "start_time": "2025-01-22T03:05:30.295Z"
   },
   {
    "duration": 36,
    "start_time": "2025-01-22T03:05:31.425Z"
   },
   {
    "duration": 20,
    "start_time": "2025-01-22T03:05:31.462Z"
   },
   {
    "duration": 4,
    "start_time": "2025-01-22T03:05:31.483Z"
   },
   {
    "duration": 12,
    "start_time": "2025-01-22T03:05:31.490Z"
   },
   {
    "duration": 4,
    "start_time": "2025-01-22T03:05:31.504Z"
   },
   {
    "duration": 331,
    "start_time": "2025-01-22T03:05:31.510Z"
   },
   {
    "duration": 3,
    "start_time": "2025-01-22T03:05:31.842Z"
   },
   {
    "duration": 7,
    "start_time": "2025-01-22T03:05:31.847Z"
   },
   {
    "duration": 538,
    "start_time": "2025-01-22T03:05:31.855Z"
   },
   {
    "duration": 668,
    "start_time": "2025-01-22T03:05:32.396Z"
   },
   {
    "duration": 87314,
    "start_time": "2025-01-22T03:05:33.066Z"
   },
   {
    "duration": 608,
    "start_time": "2025-01-22T03:07:00.387Z"
   },
   {
    "duration": 809,
    "start_time": "2025-01-22T03:07:00.999Z"
   },
   {
    "duration": 23489,
    "start_time": "2025-01-22T03:07:21.314Z"
   },
   {
    "duration": 14,
    "start_time": "2025-01-22T03:08:10.098Z"
   },
   {
    "duration": 2,
    "start_time": "2025-01-22T03:08:14.008Z"
   },
   {
    "duration": 3,
    "start_time": "2025-01-22T03:08:15.085Z"
   },
   {
    "duration": 3,
    "start_time": "2025-01-22T03:08:15.889Z"
   },
   {
    "duration": 4,
    "start_time": "2025-01-22T03:08:17.628Z"
   },
   {
    "duration": 23946,
    "start_time": "2025-01-22T03:10:46.467Z"
   },
   {
    "duration": 15,
    "start_time": "2025-01-22T03:11:12.934Z"
   },
   {
    "duration": 3,
    "start_time": "2025-01-22T03:11:13.722Z"
   },
   {
    "duration": 2,
    "start_time": "2025-01-22T03:11:14.155Z"
   },
   {
    "duration": 3,
    "start_time": "2025-01-22T03:11:14.550Z"
   },
   {
    "duration": 3,
    "start_time": "2025-01-22T03:11:14.978Z"
   },
   {
    "duration": 5,
    "start_time": "2025-01-22T03:11:16.547Z"
   },
   {
    "duration": 5,
    "start_time": "2025-01-22T03:13:25.399Z"
   },
   {
    "duration": 3,
    "start_time": "2025-01-22T03:13:26.090Z"
   },
   {
    "duration": 380,
    "start_time": "2025-01-22T03:13:29.879Z"
   },
   {
    "duration": 181,
    "start_time": "2025-01-22T03:14:00.020Z"
   },
   {
    "duration": 142,
    "start_time": "2025-01-22T03:15:54.785Z"
   },
   {
    "duration": 184,
    "start_time": "2025-01-22T03:16:30.777Z"
   },
   {
    "duration": 6,
    "start_time": "2025-01-22T03:25:47.120Z"
   },
   {
    "duration": 142589,
    "start_time": "2025-01-22T03:26:15.829Z"
   },
   {
    "duration": 280011,
    "start_time": "2025-01-22T03:29:55.652Z"
   },
   {
    "duration": 0,
    "start_time": "2025-01-22T03:34:35.666Z"
   },
   {
    "duration": 4,
    "start_time": "2025-01-22T03:34:48.334Z"
   },
   {
    "duration": 216625,
    "start_time": "2025-01-22T03:34:55.720Z"
   },
   {
    "duration": 6,
    "start_time": "2025-01-22T03:39:16.725Z"
   },
   {
    "duration": 764163,
    "start_time": "2025-01-22T03:42:46.200Z"
   },
   {
    "duration": 4975,
    "start_time": "2025-01-22T03:58:13.430Z"
   },
   {
    "duration": 25262,
    "start_time": "2025-01-22T04:00:03.561Z"
   },
   {
    "duration": 2875,
    "start_time": "2025-01-22T13:54:23.973Z"
   },
   {
    "duration": 263,
    "start_time": "2025-01-22T13:56:28.147Z"
   },
   {
    "duration": 4,
    "start_time": "2025-01-22T13:56:35.808Z"
   },
   {
    "duration": 31,
    "start_time": "2025-01-22T13:56:35.823Z"
   },
   {
    "duration": 13,
    "start_time": "2025-01-22T13:56:35.857Z"
   },
   {
    "duration": 3,
    "start_time": "2025-01-22T13:56:35.871Z"
   },
   {
    "duration": 10,
    "start_time": "2025-01-22T13:56:35.876Z"
   },
   {
    "duration": 3,
    "start_time": "2025-01-22T13:56:35.889Z"
   },
   {
    "duration": 39,
    "start_time": "2025-01-22T13:56:35.894Z"
   },
   {
    "duration": 530,
    "start_time": "2025-01-22T13:57:54.858Z"
   },
   {
    "duration": 686,
    "start_time": "2025-01-22T13:59:10.667Z"
   },
   {
    "duration": 586,
    "start_time": "2025-01-22T13:59:25.609Z"
   },
   {
    "duration": 587,
    "start_time": "2025-01-22T13:59:39.617Z"
   },
   {
    "duration": 607,
    "start_time": "2025-01-22T13:59:48.163Z"
   },
   {
    "duration": 595,
    "start_time": "2025-01-22T14:00:00.976Z"
   },
   {
    "duration": 649,
    "start_time": "2025-01-22T14:01:20.913Z"
   },
   {
    "duration": 369,
    "start_time": "2025-01-22T14:02:02.268Z"
   },
   {
    "duration": 589,
    "start_time": "2025-01-22T14:03:08.939Z"
   },
   {
    "duration": 572,
    "start_time": "2025-01-22T14:03:22.705Z"
   },
   {
    "duration": 383,
    "start_time": "2025-01-22T14:04:01.175Z"
   },
   {
    "duration": 580,
    "start_time": "2025-01-22T14:04:40.302Z"
   },
   {
    "duration": 569,
    "start_time": "2025-01-22T14:05:06.389Z"
   },
   {
    "duration": 51,
    "start_time": "2025-01-22T14:05:24.028Z"
   },
   {
    "duration": 565,
    "start_time": "2025-01-22T14:05:29.226Z"
   },
   {
    "duration": 697,
    "start_time": "2025-01-22T14:05:48.199Z"
   },
   {
    "duration": 380,
    "start_time": "2025-01-22T14:06:02.459Z"
   },
   {
    "duration": 395,
    "start_time": "2025-01-22T14:06:07.640Z"
   },
   {
    "duration": 379,
    "start_time": "2025-01-22T14:06:17.905Z"
   },
   {
    "duration": 3,
    "start_time": "2025-01-22T14:06:22.319Z"
   },
   {
    "duration": 19,
    "start_time": "2025-01-22T14:06:22.326Z"
   },
   {
    "duration": 10,
    "start_time": "2025-01-22T14:06:22.348Z"
   },
   {
    "duration": 4,
    "start_time": "2025-01-22T14:06:22.360Z"
   },
   {
    "duration": 10,
    "start_time": "2025-01-22T14:06:22.365Z"
   },
   {
    "duration": 4,
    "start_time": "2025-01-22T14:06:22.377Z"
   },
   {
    "duration": 406,
    "start_time": "2025-01-22T14:06:22.383Z"
   },
   {
    "duration": 464,
    "start_time": "2025-01-22T14:22:09.075Z"
   },
   {
    "duration": 402,
    "start_time": "2025-01-22T14:26:05.231Z"
   },
   {
    "duration": 385,
    "start_time": "2025-01-22T14:26:12.167Z"
   },
   {
    "duration": 360,
    "start_time": "2025-01-22T14:26:35.962Z"
   },
   {
    "duration": 363,
    "start_time": "2025-01-22T14:26:45.010Z"
   },
   {
    "duration": 373,
    "start_time": "2025-01-22T14:50:38.252Z"
   },
   {
    "duration": 248,
    "start_time": "2025-01-22T14:50:58.567Z"
   },
   {
    "duration": 372,
    "start_time": "2025-01-22T14:51:29.724Z"
   },
   {
    "duration": 383,
    "start_time": "2025-01-22T14:51:37.664Z"
   },
   {
    "duration": 400,
    "start_time": "2025-01-22T14:51:42.907Z"
   },
   {
    "duration": 390,
    "start_time": "2025-01-22T14:52:12.822Z"
   },
   {
    "duration": 557,
    "start_time": "2025-01-22T14:52:28.913Z"
   },
   {
    "duration": 370,
    "start_time": "2025-01-22T14:52:44.032Z"
   },
   {
    "duration": 363,
    "start_time": "2025-01-22T14:55:46.261Z"
   },
   {
    "duration": 367,
    "start_time": "2025-01-22T14:55:58.237Z"
   },
   {
    "duration": 299,
    "start_time": "2025-01-22T14:56:05.103Z"
   },
   {
    "duration": 465,
    "start_time": "2025-01-22T14:56:09.343Z"
   },
   {
    "duration": 356,
    "start_time": "2025-01-22T14:56:19.078Z"
   },
   {
    "duration": 370,
    "start_time": "2025-01-22T14:56:28.201Z"
   },
   {
    "duration": 350,
    "start_time": "2025-01-22T14:56:33.216Z"
   },
   {
    "duration": 361,
    "start_time": "2025-01-22T14:56:39.451Z"
   },
   {
    "duration": 5,
    "start_time": "2025-01-22T14:57:07.488Z"
   },
   {
    "duration": 358,
    "start_time": "2025-01-22T14:57:10.854Z"
   },
   {
    "duration": 361,
    "start_time": "2025-01-22T14:57:15.658Z"
   },
   {
    "duration": 486,
    "start_time": "2025-01-22T14:57:28.237Z"
   },
   {
    "duration": 362,
    "start_time": "2025-01-22T14:57:33.041Z"
   },
   {
    "duration": 353,
    "start_time": "2025-01-22T14:57:56.400Z"
   },
   {
    "duration": 369,
    "start_time": "2025-01-22T14:58:01.351Z"
   },
   {
    "duration": 370,
    "start_time": "2025-01-22T14:58:07.783Z"
   },
   {
    "duration": 398,
    "start_time": "2025-01-22T14:59:47.795Z"
   },
   {
    "duration": 19,
    "start_time": "2025-01-22T15:01:13.947Z"
   },
   {
    "duration": 3,
    "start_time": "2025-01-22T15:01:19.599Z"
   },
   {
    "duration": 20,
    "start_time": "2025-01-22T15:01:19.609Z"
   },
   {
    "duration": 12,
    "start_time": "2025-01-22T15:01:19.631Z"
   },
   {
    "duration": 4,
    "start_time": "2025-01-22T15:01:19.644Z"
   },
   {
    "duration": 9,
    "start_time": "2025-01-22T15:01:19.649Z"
   },
   {
    "duration": 4,
    "start_time": "2025-01-22T15:01:19.660Z"
   },
   {
    "duration": 405,
    "start_time": "2025-01-22T15:01:19.666Z"
   },
   {
    "duration": 4,
    "start_time": "2025-01-22T15:01:20.074Z"
   },
   {
    "duration": 8,
    "start_time": "2025-01-22T15:01:20.079Z"
   },
   {
    "duration": 358,
    "start_time": "2025-01-22T15:01:20.088Z"
   },
   {
    "duration": 705,
    "start_time": "2025-01-22T15:01:20.448Z"
   },
   {
    "duration": 1415,
    "start_time": "2025-01-22T15:02:22.858Z"
   },
   {
    "duration": 572,
    "start_time": "2025-01-22T15:02:47.393Z"
   },
   {
    "duration": 620,
    "start_time": "2025-01-22T15:03:27.608Z"
   },
   {
    "duration": 87080,
    "start_time": "2025-01-22T15:04:05.451Z"
   },
   {
    "duration": 3624,
    "start_time": "2025-01-22T15:06:08.309Z"
   },
   {
    "duration": 23877,
    "start_time": "2025-01-22T15:06:52.843Z"
   },
   {
    "duration": 205781,
    "start_time": "2025-01-22T15:08:39.966Z"
   },
   {
    "duration": 9,
    "start_time": "2025-01-22T15:29:37.902Z"
   },
   {
    "duration": 9,
    "start_time": "2025-01-22T15:30:07.648Z"
   },
   {
    "duration": 693,
    "start_time": "2025-01-22T15:33:45.414Z"
   },
   {
    "duration": 14,
    "start_time": "2025-01-22T15:34:12.579Z"
   },
   {
    "duration": 16,
    "start_time": "2025-01-22T15:36:31.789Z"
   },
   {
    "duration": 15,
    "start_time": "2025-01-22T15:36:48.267Z"
   },
   {
    "duration": 43,
    "start_time": "2025-01-22T15:40:49.494Z"
   },
   {
    "duration": 3,
    "start_time": "2025-01-22T15:41:15.862Z"
   },
   {
    "duration": 21,
    "start_time": "2025-01-22T15:41:15.870Z"
   },
   {
    "duration": 12,
    "start_time": "2025-01-22T15:41:15.893Z"
   },
   {
    "duration": 4,
    "start_time": "2025-01-22T15:41:15.906Z"
   },
   {
    "duration": 9,
    "start_time": "2025-01-22T15:41:15.912Z"
   },
   {
    "duration": 4,
    "start_time": "2025-01-22T15:41:15.924Z"
   },
   {
    "duration": 544,
    "start_time": "2025-01-22T15:41:15.930Z"
   },
   {
    "duration": 4,
    "start_time": "2025-01-22T15:41:16.476Z"
   },
   {
    "duration": 7,
    "start_time": "2025-01-22T15:41:16.482Z"
   },
   {
    "duration": 350,
    "start_time": "2025-01-22T15:41:16.491Z"
   },
   {
    "duration": 696,
    "start_time": "2025-01-22T15:41:16.843Z"
   },
   {
    "duration": 86383,
    "start_time": "2025-01-22T15:41:17.541Z"
   },
   {
    "duration": 206120,
    "start_time": "2025-01-22T15:42:43.926Z"
   },
   {
    "duration": 4949,
    "start_time": "2025-01-22T15:46:10.048Z"
   },
   {
    "duration": 26914,
    "start_time": "2025-01-22T15:46:15.000Z"
   },
   {
    "duration": 3,
    "start_time": "2025-01-22T15:46:41.916Z"
   },
   {
    "duration": 17,
    "start_time": "2025-01-22T15:52:31.852Z"
   },
   {
    "duration": 15,
    "start_time": "2025-01-22T15:53:07.575Z"
   },
   {
    "duration": 7,
    "start_time": "2025-01-22T15:53:43.364Z"
   },
   {
    "duration": 17,
    "start_time": "2025-01-22T15:53:47.071Z"
   },
   {
    "duration": 16,
    "start_time": "2025-01-22T15:54:02.354Z"
   },
   {
    "duration": 14,
    "start_time": "2025-01-22T15:54:04.611Z"
   },
   {
    "duration": 3,
    "start_time": "2025-01-22T15:54:32.858Z"
   },
   {
    "duration": 14,
    "start_time": "2025-01-22T15:54:36.365Z"
   },
   {
    "duration": 16,
    "start_time": "2025-01-22T15:54:39.306Z"
   },
   {
    "duration": 13,
    "start_time": "2025-01-22T15:54:40.198Z"
   },
   {
    "duration": 2,
    "start_time": "2025-01-22T15:54:52.422Z"
   },
   {
    "duration": 16,
    "start_time": "2025-01-22T15:54:53.939Z"
   },
   {
    "duration": 3,
    "start_time": "2025-01-22T15:55:29.233Z"
   },
   {
    "duration": 14,
    "start_time": "2025-01-22T15:55:37.562Z"
   },
   {
    "duration": 4,
    "start_time": "2025-01-22T15:55:48.107Z"
   },
   {
    "duration": 26,
    "start_time": "2025-01-22T15:55:48.113Z"
   },
   {
    "duration": 12,
    "start_time": "2025-01-22T15:55:48.142Z"
   },
   {
    "duration": 3,
    "start_time": "2025-01-22T15:55:48.156Z"
   },
   {
    "duration": 9,
    "start_time": "2025-01-22T15:55:48.160Z"
   },
   {
    "duration": 4,
    "start_time": "2025-01-22T15:55:48.172Z"
   },
   {
    "duration": 397,
    "start_time": "2025-01-22T15:55:48.178Z"
   },
   {
    "duration": 3,
    "start_time": "2025-01-22T15:55:48.577Z"
   },
   {
    "duration": 8,
    "start_time": "2025-01-22T15:55:48.582Z"
   },
   {
    "duration": 345,
    "start_time": "2025-01-22T15:55:48.591Z"
   },
   {
    "duration": 683,
    "start_time": "2025-01-22T15:55:48.937Z"
   },
   {
    "duration": 86821,
    "start_time": "2025-01-22T15:55:49.623Z"
   },
   {
    "duration": 202508,
    "start_time": "2025-01-22T15:57:16.446Z"
   },
   {
    "duration": 4849,
    "start_time": "2025-01-22T16:00:38.957Z"
   },
   {
    "duration": 25992,
    "start_time": "2025-01-22T16:00:43.809Z"
   },
   {
    "duration": 2,
    "start_time": "2025-01-22T16:01:09.803Z"
   },
   {
    "duration": 3,
    "start_time": "2025-01-22T16:06:55.984Z"
   },
   {
    "duration": 9,
    "start_time": "2025-01-22T16:07:25.053Z"
   },
   {
    "duration": 15,
    "start_time": "2025-01-22T16:07:30.860Z"
   },
   {
    "duration": 38,
    "start_time": "2025-01-22T16:27:39.513Z"
   },
   {
    "duration": 15,
    "start_time": "2025-01-22T16:28:50.215Z"
   },
   {
    "duration": 12,
    "start_time": "2025-01-22T16:30:18.074Z"
   },
   {
    "duration": 6,
    "start_time": "2025-01-22T16:30:27.305Z"
   },
   {
    "duration": 15,
    "start_time": "2025-01-22T16:31:02.203Z"
   },
   {
    "duration": 36,
    "start_time": "2025-01-22T16:31:52.684Z"
   },
   {
    "duration": 38,
    "start_time": "2025-01-22T16:32:29.124Z"
   },
   {
    "duration": 11,
    "start_time": "2025-01-22T16:32:48.706Z"
   },
   {
    "duration": 6,
    "start_time": "2025-01-22T16:32:56.185Z"
   },
   {
    "duration": 5,
    "start_time": "2025-01-22T16:33:05.803Z"
   },
   {
    "duration": 16,
    "start_time": "2025-01-22T16:33:38.894Z"
   },
   {
    "duration": 15,
    "start_time": "2025-01-22T16:33:58.357Z"
   },
   {
    "duration": 27,
    "start_time": "2025-01-22T16:34:03.684Z"
   },
   {
    "duration": 3,
    "start_time": "2025-01-22T16:34:41.988Z"
   },
   {
    "duration": 4,
    "start_time": "2025-01-22T16:34:47.840Z"
   },
   {
    "duration": 7,
    "start_time": "2025-01-22T16:36:21.162Z"
   },
   {
    "duration": 3,
    "start_time": "2025-01-22T16:36:25.186Z"
   },
   {
    "duration": 4,
    "start_time": "2025-01-22T16:36:39.671Z"
   },
   {
    "duration": 11,
    "start_time": "2025-01-22T16:36:44.417Z"
   },
   {
    "duration": 11,
    "start_time": "2025-01-22T16:36:51.448Z"
   },
   {
    "duration": 7,
    "start_time": "2025-01-22T16:36:58.137Z"
   },
   {
    "duration": 3,
    "start_time": "2025-01-22T16:37:03.933Z"
   },
   {
    "duration": 4,
    "start_time": "2025-01-22T16:38:06.301Z"
   },
   {
    "duration": 4,
    "start_time": "2025-01-22T16:38:53.866Z"
   },
   {
    "duration": 22,
    "start_time": "2025-01-22T16:39:28.378Z"
   },
   {
    "duration": 40,
    "start_time": "2025-01-22T16:42:59.391Z"
   },
   {
    "duration": 16,
    "start_time": "2025-01-22T16:43:15.284Z"
   },
   {
    "duration": 3,
    "start_time": "2025-01-22T16:43:18.574Z"
   },
   {
    "duration": 4,
    "start_time": "2025-01-22T16:43:19.211Z"
   },
   {
    "duration": 10,
    "start_time": "2025-01-22T16:43:19.881Z"
   },
   {
    "duration": 5,
    "start_time": "2025-01-22T16:43:20.751Z"
   },
   {
    "duration": 105,
    "start_time": "2025-01-22T16:43:21.549Z"
   },
   {
    "duration": 18,
    "start_time": "2025-01-22T16:44:48.723Z"
   },
   {
    "duration": 2,
    "start_time": "2025-01-22T16:44:51.222Z"
   },
   {
    "duration": 3,
    "start_time": "2025-01-22T16:44:52.235Z"
   },
   {
    "duration": 13,
    "start_time": "2025-01-22T16:45:00.908Z"
   },
   {
    "duration": 5,
    "start_time": "2025-01-22T16:45:02.815Z"
   },
   {
    "duration": 29,
    "start_time": "2025-01-22T16:45:03.761Z"
   },
   {
    "duration": 3,
    "start_time": "2025-01-22T16:45:46.306Z"
   },
   {
    "duration": 4,
    "start_time": "2025-01-22T16:45:47.195Z"
   },
   {
    "duration": 38,
    "start_time": "2025-01-22T16:45:55.740Z"
   },
   {
    "duration": 3,
    "start_time": "2025-01-22T16:47:13.698Z"
   },
   {
    "duration": 4,
    "start_time": "2025-01-22T16:47:15.349Z"
   },
   {
    "duration": 26,
    "start_time": "2025-01-22T16:47:19.617Z"
   },
   {
    "duration": 11,
    "start_time": "2025-01-22T16:47:39.194Z"
   },
   {
    "duration": 9,
    "start_time": "2025-01-22T16:47:43.713Z"
   },
   {
    "duration": 4,
    "start_time": "2025-01-22T16:47:53.935Z"
   },
   {
    "duration": 3,
    "start_time": "2025-01-22T16:48:09.986Z"
   },
   {
    "duration": 11,
    "start_time": "2025-01-22T16:48:16.454Z"
   },
   {
    "duration": 16,
    "start_time": "2025-01-22T16:48:54.936Z"
   },
   {
    "duration": 3,
    "start_time": "2025-01-22T16:48:58.071Z"
   },
   {
    "duration": 3,
    "start_time": "2025-01-22T16:48:58.543Z"
   },
   {
    "duration": 11,
    "start_time": "2025-01-22T16:48:59.003Z"
   },
   {
    "duration": 4,
    "start_time": "2025-01-22T16:49:02.801Z"
   },
   {
    "duration": 5,
    "start_time": "2025-01-22T16:49:04.031Z"
   },
   {
    "duration": 13,
    "start_time": "2025-01-22T16:49:07.666Z"
   },
   {
    "duration": 9,
    "start_time": "2025-01-22T16:49:17.899Z"
   },
   {
    "duration": 5,
    "start_time": "2025-01-22T16:49:37.009Z"
   },
   {
    "duration": 3,
    "start_time": "2025-01-22T16:50:53.034Z"
   },
   {
    "duration": 3,
    "start_time": "2025-01-22T16:50:53.793Z"
   },
   {
    "duration": 10,
    "start_time": "2025-01-22T16:50:54.370Z"
   },
   {
    "duration": 4,
    "start_time": "2025-01-22T16:50:55.697Z"
   },
   {
    "duration": 4,
    "start_time": "2025-01-22T16:50:56.177Z"
   },
   {
    "duration": 12,
    "start_time": "2025-01-22T16:50:59.511Z"
   },
   {
    "duration": 5,
    "start_time": "2025-01-22T16:51:04.765Z"
   },
   {
    "duration": 114,
    "start_time": "2025-01-22T16:51:14.195Z"
   },
   {
    "duration": 4,
    "start_time": "2025-01-22T16:52:05.682Z"
   },
   {
    "duration": 5,
    "start_time": "2025-01-22T16:52:25.563Z"
   },
   {
    "duration": 3,
    "start_time": "2025-01-22T16:52:37.352Z"
   },
   {
    "duration": 3,
    "start_time": "2025-01-22T16:53:20.182Z"
   },
   {
    "duration": 3,
    "start_time": "2025-01-22T16:53:55.937Z"
   },
   {
    "duration": 6,
    "start_time": "2025-01-22T16:54:06.032Z"
   },
   {
    "duration": 44,
    "start_time": "2025-01-22T16:54:28.891Z"
   },
   {
    "duration": 16,
    "start_time": "2025-01-22T16:54:40.858Z"
   },
   {
    "duration": 2,
    "start_time": "2025-01-22T16:54:43.151Z"
   },
   {
    "duration": 4,
    "start_time": "2025-01-22T16:54:43.573Z"
   },
   {
    "duration": 18,
    "start_time": "2025-01-22T16:54:44.018Z"
   },
   {
    "duration": 3,
    "start_time": "2025-01-22T16:55:22.216Z"
   },
   {
    "duration": 3,
    "start_time": "2025-01-22T16:55:22.618Z"
   },
   {
    "duration": 44,
    "start_time": "2025-01-22T16:55:23.554Z"
   },
   {
    "duration": 18,
    "start_time": "2025-01-22T16:55:41.573Z"
   },
   {
    "duration": 4,
    "start_time": "2025-01-22T16:55:51.395Z"
   },
   {
    "duration": 15,
    "start_time": "2025-01-22T16:55:57.929Z"
   },
   {
    "duration": 5,
    "start_time": "2025-01-22T16:56:04.226Z"
   },
   {
    "duration": 4,
    "start_time": "2025-01-22T16:56:10.943Z"
   },
   {
    "duration": 4,
    "start_time": "2025-01-22T16:56:13.569Z"
   },
   {
    "duration": 61,
    "start_time": "2025-01-22T16:56:20.639Z"
   },
   {
    "duration": 5,
    "start_time": "2025-01-22T16:56:45.257Z"
   },
   {
    "duration": 5,
    "start_time": "2025-01-22T16:56:47.950Z"
   },
   {
    "duration": 47,
    "start_time": "2025-01-22T16:56:50.826Z"
   },
   {
    "duration": 4,
    "start_time": "2025-01-22T16:57:03.474Z"
   },
   {
    "duration": 4,
    "start_time": "2025-01-22T16:57:19.467Z"
   },
   {
    "duration": 3,
    "start_time": "2025-01-22T16:57:25.145Z"
   },
   {
    "duration": 4,
    "start_time": "2025-01-22T16:57:42.418Z"
   },
   {
    "duration": 4,
    "start_time": "2025-01-22T16:57:44.280Z"
   },
   {
    "duration": 63,
    "start_time": "2025-01-22T16:57:45.978Z"
   },
   {
    "duration": 5,
    "start_time": "2025-01-22T16:57:56.134Z"
   },
   {
    "duration": 4,
    "start_time": "2025-01-22T16:58:01.130Z"
   },
   {
    "duration": 17,
    "start_time": "2025-01-22T16:58:36.685Z"
   },
   {
    "duration": 3,
    "start_time": "2025-01-22T16:58:38.918Z"
   },
   {
    "duration": 3,
    "start_time": "2025-01-22T16:58:39.203Z"
   },
   {
    "duration": 9,
    "start_time": "2025-01-22T16:58:39.547Z"
   },
   {
    "duration": 17,
    "start_time": "2025-01-22T16:58:40.221Z"
   },
   {
    "duration": 15,
    "start_time": "2025-01-22T16:58:45.111Z"
   },
   {
    "duration": 3,
    "start_time": "2025-01-22T16:58:48.707Z"
   },
   {
    "duration": 3,
    "start_time": "2025-01-22T16:58:49.211Z"
   },
   {
    "duration": 10,
    "start_time": "2025-01-22T16:58:50.386Z"
   },
   {
    "duration": 13,
    "start_time": "2025-01-22T16:58:51.391Z"
   },
   {
    "duration": 3,
    "start_time": "2025-01-22T16:59:02.681Z"
   },
   {
    "duration": 3,
    "start_time": "2025-01-22T16:59:03.062Z"
   },
   {
    "duration": 24,
    "start_time": "2025-01-22T16:59:03.380Z"
   },
   {
    "duration": 3,
    "start_time": "2025-01-22T16:59:04.503Z"
   },
   {
    "duration": 4,
    "start_time": "2025-01-22T16:59:13.849Z"
   },
   {
    "duration": 47,
    "start_time": "2025-01-22T16:59:18.933Z"
   },
   {
    "duration": 3,
    "start_time": "2025-01-22T17:01:23.691Z"
   },
   {
    "duration": 5,
    "start_time": "2025-01-22T17:01:42.265Z"
   },
   {
    "duration": 3,
    "start_time": "2025-01-22T17:01:43.818Z"
   },
   {
    "duration": 4,
    "start_time": "2025-01-22T17:03:42.155Z"
   },
   {
    "duration": 3,
    "start_time": "2025-01-22T17:03:49.803Z"
   },
   {
    "duration": 4,
    "start_time": "2025-01-22T17:04:07.090Z"
   },
   {
    "duration": 3,
    "start_time": "2025-01-22T17:04:17.394Z"
   },
   {
    "duration": 796,
    "start_time": "2025-01-22T17:04:36.530Z"
   },
   {
    "duration": 925,
    "start_time": "2025-01-22T17:05:29.047Z"
   },
   {
    "duration": 925,
    "start_time": "2025-01-22T17:05:45.566Z"
   },
   {
    "duration": 808,
    "start_time": "2025-01-22T17:06:03.783Z"
   },
   {
    "duration": 474,
    "start_time": "2025-01-22T18:20:57.610Z"
   },
   {
    "duration": 4,
    "start_time": "2025-01-22T18:21:08.542Z"
   },
   {
    "duration": 26,
    "start_time": "2025-01-22T18:21:08.556Z"
   },
   {
    "duration": 18,
    "start_time": "2025-01-22T18:21:08.584Z"
   },
   {
    "duration": 4,
    "start_time": "2025-01-22T18:21:08.604Z"
   },
   {
    "duration": 12,
    "start_time": "2025-01-22T18:21:08.609Z"
   },
   {
    "duration": 4,
    "start_time": "2025-01-22T18:21:08.630Z"
   },
   {
    "duration": 376,
    "start_time": "2025-01-22T18:21:08.636Z"
   },
   {
    "duration": 326,
    "start_time": "2025-01-22T18:21:09.014Z"
   },
   {
    "duration": 5,
    "start_time": "2025-01-22T18:21:09.342Z"
   },
   {
    "duration": 515,
    "start_time": "2025-01-22T18:21:09.352Z"
   },
   {
    "duration": 365,
    "start_time": "2025-01-22T18:21:17.401Z"
   },
   {
    "duration": 4,
    "start_time": "2025-01-22T18:21:31.403Z"
   },
   {
    "duration": 20,
    "start_time": "2025-01-22T18:21:32.434Z"
   },
   {
    "duration": 13,
    "start_time": "2025-01-22T18:21:33.146Z"
   },
   {
    "duration": 3,
    "start_time": "2025-01-22T18:21:34.988Z"
   },
   {
    "duration": 10,
    "start_time": "2025-01-22T18:21:35.514Z"
   },
   {
    "duration": 4,
    "start_time": "2025-01-22T18:21:37.012Z"
   },
   {
    "duration": 596,
    "start_time": "2025-01-22T18:21:39.605Z"
   },
   {
    "duration": 294,
    "start_time": "2025-01-22T18:21:41.958Z"
   },
   {
    "duration": 4,
    "start_time": "2025-01-22T18:21:44.760Z"
   },
   {
    "duration": 405,
    "start_time": "2025-01-22T18:21:46.962Z"
   },
   {
    "duration": 423,
    "start_time": "2025-01-22T18:22:45.546Z"
   },
   {
    "duration": 594,
    "start_time": "2025-01-22T18:22:56.045Z"
   },
   {
    "duration": 596,
    "start_time": "2025-01-22T18:23:12.277Z"
   },
   {
    "duration": 345,
    "start_time": "2025-01-22T18:28:51.890Z"
   },
   {
    "duration": 329,
    "start_time": "2025-01-22T18:29:05.813Z"
   },
   {
    "duration": 313,
    "start_time": "2025-01-22T18:29:10.430Z"
   },
   {
    "duration": 313,
    "start_time": "2025-01-22T18:29:26.300Z"
   },
   {
    "duration": 245,
    "start_time": "2025-01-22T18:29:32.752Z"
   },
   {
    "duration": 296,
    "start_time": "2025-01-22T18:29:40.623Z"
   },
   {
    "duration": 296,
    "start_time": "2025-01-22T18:29:46.349Z"
   },
   {
    "duration": 2929,
    "start_time": "2025-01-22T19:04:37.351Z"
   },
   {
    "duration": 36,
    "start_time": "2025-01-22T19:04:40.282Z"
   },
   {
    "duration": 14,
    "start_time": "2025-01-22T19:04:40.319Z"
   },
   {
    "duration": 2,
    "start_time": "2025-01-22T19:04:40.336Z"
   },
   {
    "duration": 11,
    "start_time": "2025-01-22T19:04:40.340Z"
   },
   {
    "duration": 3,
    "start_time": "2025-01-22T19:04:40.353Z"
   },
   {
    "duration": 292,
    "start_time": "2025-01-22T19:04:40.370Z"
   },
   {
    "duration": 274,
    "start_time": "2025-01-22T19:04:40.664Z"
   },
   {
    "duration": 0,
    "start_time": "2025-01-22T19:04:40.941Z"
   },
   {
    "duration": 0,
    "start_time": "2025-01-22T19:04:40.945Z"
   },
   {
    "duration": 0,
    "start_time": "2025-01-22T19:04:40.946Z"
   },
   {
    "duration": 0,
    "start_time": "2025-01-22T19:04:40.948Z"
   },
   {
    "duration": 0,
    "start_time": "2025-01-22T19:04:40.950Z"
   },
   {
    "duration": 0,
    "start_time": "2025-01-22T19:04:40.952Z"
   },
   {
    "duration": 0,
    "start_time": "2025-01-22T19:04:40.952Z"
   },
   {
    "duration": 0,
    "start_time": "2025-01-22T19:04:40.953Z"
   },
   {
    "duration": 0,
    "start_time": "2025-01-22T19:04:40.955Z"
   },
   {
    "duration": 0,
    "start_time": "2025-01-22T19:04:40.956Z"
   },
   {
    "duration": 0,
    "start_time": "2025-01-22T19:04:40.970Z"
   },
   {
    "duration": 0,
    "start_time": "2025-01-22T19:04:40.971Z"
   },
   {
    "duration": 0,
    "start_time": "2025-01-22T19:04:40.972Z"
   },
   {
    "duration": 4,
    "start_time": "2025-01-22T19:05:24.425Z"
   },
   {
    "duration": 656,
    "start_time": "2025-01-22T19:05:24.431Z"
   },
   {
    "duration": 85929,
    "start_time": "2025-01-22T19:05:25.090Z"
   },
   {
    "duration": 202290,
    "start_time": "2025-01-22T19:06:51.022Z"
   },
   {
    "duration": 3603,
    "start_time": "2025-01-22T19:10:13.314Z"
   },
   {
    "duration": 24093,
    "start_time": "2025-01-22T19:10:16.919Z"
   },
   {
    "duration": 4,
    "start_time": "2025-01-22T19:10:41.014Z"
   },
   {
    "duration": 3,
    "start_time": "2025-01-22T19:10:41.019Z"
   },
   {
    "duration": 19,
    "start_time": "2025-01-22T19:10:41.024Z"
   },
   {
    "duration": 27,
    "start_time": "2025-01-22T19:10:41.044Z"
   },
   {
    "duration": 3,
    "start_time": "2025-01-22T19:10:41.073Z"
   },
   {
    "duration": 806,
    "start_time": "2025-01-22T19:10:41.078Z"
   },
   {
    "duration": 309,
    "start_time": "2025-01-22T19:10:41.886Z"
   },
   {
    "duration": 161,
    "start_time": "2025-01-22T19:18:02.772Z"
   },
   {
    "duration": 2919,
    "start_time": "2025-01-22T19:18:13.408Z"
   },
   {
    "duration": 36,
    "start_time": "2025-01-22T19:18:16.330Z"
   },
   {
    "duration": 19,
    "start_time": "2025-01-22T19:18:16.368Z"
   },
   {
    "duration": 3,
    "start_time": "2025-01-22T19:18:16.390Z"
   },
   {
    "duration": 12,
    "start_time": "2025-01-22T19:18:16.395Z"
   },
   {
    "duration": 3,
    "start_time": "2025-01-22T19:18:16.409Z"
   },
   {
    "duration": 383,
    "start_time": "2025-01-22T19:18:16.415Z"
   },
   {
    "duration": 387,
    "start_time": "2025-01-22T19:18:16.800Z"
   },
   {
    "duration": 130,
    "start_time": "2025-01-22T19:22:32.291Z"
   },
   {
    "duration": 21,
    "start_time": "2025-01-22T19:23:49.027Z"
   },
   {
    "duration": 4,
    "start_time": "2025-01-22T19:23:57.038Z"
   },
   {
    "duration": 23,
    "start_time": "2025-01-22T19:23:57.044Z"
   },
   {
    "duration": 11,
    "start_time": "2025-01-22T19:23:57.069Z"
   },
   {
    "duration": 3,
    "start_time": "2025-01-22T19:23:57.082Z"
   },
   {
    "duration": 9,
    "start_time": "2025-01-22T19:23:57.088Z"
   },
   {
    "duration": 4,
    "start_time": "2025-01-22T19:23:57.098Z"
   },
   {
    "duration": 291,
    "start_time": "2025-01-22T19:23:57.104Z"
   },
   {
    "duration": 405,
    "start_time": "2025-01-22T19:23:57.397Z"
   },
   {
    "duration": 700,
    "start_time": "2025-01-22T19:23:57.803Z"
   },
   {
    "duration": 86626,
    "start_time": "2025-01-22T19:23:58.505Z"
   },
   {
    "duration": 205544,
    "start_time": "2025-01-22T19:25:25.132Z"
   },
   {
    "duration": 4309,
    "start_time": "2025-01-22T19:28:50.678Z"
   },
   {
    "duration": 21107,
    "start_time": "2025-01-22T19:28:54.989Z"
   },
   {
    "duration": 2,
    "start_time": "2025-01-22T19:29:16.099Z"
   },
   {
    "duration": 4,
    "start_time": "2025-01-22T19:29:16.103Z"
   },
   {
    "duration": 18,
    "start_time": "2025-01-22T19:29:16.108Z"
   },
   {
    "duration": 5,
    "start_time": "2025-01-22T19:29:16.127Z"
   },
   {
    "duration": 3,
    "start_time": "2025-01-22T19:29:16.134Z"
   },
   {
    "duration": 823,
    "start_time": "2025-01-22T19:29:16.139Z"
   },
   {
    "duration": 455,
    "start_time": "2025-01-22T19:29:16.964Z"
   },
   {
    "duration": 287,
    "start_time": "2025-01-22T19:38:25.802Z"
   },
   {
    "duration": 3030,
    "start_time": "2025-01-22T20:12:02.402Z"
   },
   {
    "duration": 29,
    "start_time": "2025-01-22T20:12:05.435Z"
   },
   {
    "duration": 15,
    "start_time": "2025-01-22T20:12:05.467Z"
   },
   {
    "duration": 4,
    "start_time": "2025-01-22T20:12:05.484Z"
   },
   {
    "duration": 25,
    "start_time": "2025-01-22T20:12:05.490Z"
   },
   {
    "duration": 5,
    "start_time": "2025-01-22T20:12:05.516Z"
   },
   {
    "duration": 295,
    "start_time": "2025-01-22T20:12:05.523Z"
   },
   {
    "duration": 160,
    "start_time": "2025-01-27T17:14:24.184Z"
   },
   {
    "duration": 1153,
    "start_time": "2025-01-27T17:15:09.547Z"
   },
   {
    "duration": 120,
    "start_time": "2025-01-27T17:15:16.295Z"
   },
   {
    "duration": 3,
    "start_time": "2025-01-27T17:15:21.333Z"
   },
   {
    "duration": 35,
    "start_time": "2025-01-27T17:15:21.339Z"
   },
   {
    "duration": 14,
    "start_time": "2025-01-27T17:15:21.376Z"
   },
   {
    "duration": 3,
    "start_time": "2025-01-27T17:15:21.391Z"
   },
   {
    "duration": 9,
    "start_time": "2025-01-27T17:15:21.397Z"
   },
   {
    "duration": 69,
    "start_time": "2025-01-27T17:15:21.407Z"
   },
   {
    "duration": 302,
    "start_time": "2025-01-27T17:15:21.478Z"
   },
   {
    "duration": 345,
    "start_time": "2025-01-27T17:15:21.782Z"
   },
   {
    "duration": 686,
    "start_time": "2025-01-27T17:15:22.206Z"
   },
   {
    "duration": 43087,
    "start_time": "2025-01-27T17:15:22.893Z"
   },
   {
    "duration": 0,
    "start_time": "2025-01-27T17:16:05.987Z"
   },
   {
    "duration": 0,
    "start_time": "2025-01-27T17:16:05.988Z"
   },
   {
    "duration": 0,
    "start_time": "2025-01-27T17:16:05.990Z"
   }
  ],
  "kernelspec": {
   "display_name": "Python 3 (ipykernel)",
   "language": "python",
   "name": "python3"
  },
  "language_info": {
   "codemirror_mode": {
    "name": "ipython",
    "version": 3
   },
   "file_extension": ".py",
   "mimetype": "text/x-python",
   "name": "python",
   "nbconvert_exporter": "python",
   "pygments_lexer": "ipython3",
   "version": "3.12.1"
  },
  "toc": {
   "base_numbering": 1,
   "nav_menu": {},
   "number_sections": true,
   "sideBar": true,
   "skip_h1_title": true,
   "title_cell": "Table of Contents",
   "title_sidebar": "Contents",
   "toc_cell": false,
   "toc_position": {},
   "toc_section_display": true,
   "toc_window_display": false
  }
 },
 "nbformat": 4,
 "nbformat_minor": 4
}
